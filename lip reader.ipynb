{
 "cells": [
  {
   "cell_type": "code",
   "execution_count": 1,
   "metadata": {
    "_cell_guid": "b1076dfc-b9ad-4769-8c92-a6c4dae69d19",
    "_uuid": "8f2839f25d086af736a60e9eeb907d3b93b6e0e5",
    "execution": {
     "iopub.execute_input": "2025-02-02T20:38:45.505023Z",
     "iopub.status.busy": "2025-02-02T20:38:45.504756Z",
     "iopub.status.idle": "2025-02-02T20:38:54.602159Z",
     "shell.execute_reply": "2025-02-02T20:38:54.601174Z",
     "shell.execute_reply.started": "2025-02-02T20:38:45.504996Z"
    },
    "trusted": true
   },
   "outputs": [
    {
     "name": "stdout",
     "output_type": "stream",
     "text": [
      "Requirement already satisfied: opencv-python in /usr/local/lib/python3.10/dist-packages (4.10.0.84)\n",
      "Requirement already satisfied: matplotlib in /usr/local/lib/python3.10/dist-packages (3.7.5)\n",
      "Requirement already satisfied: imageio in /usr/local/lib/python3.10/dist-packages (2.36.1)\n",
      "Requirement already satisfied: gdown in /usr/local/lib/python3.10/dist-packages (5.2.0)\n",
      "Requirement already satisfied: tensorflow in /usr/local/lib/python3.10/dist-packages (2.17.1)\n",
      "Collecting wordninja\n",
      "  Downloading wordninja-2.0.0.tar.gz (541 kB)\n",
      "\u001b[2K     \u001b[90m━━━━━━━━━━━━━━━━━━━━━━━━━━━━━━━━━━━━━━━━\u001b[0m \u001b[32m541.6/541.6 kB\u001b[0m \u001b[31m8.7 MB/s\u001b[0m eta \u001b[36m0:00:00\u001b[0ma \u001b[36m0:00:01\u001b[0m\n",
      "\u001b[?25h  Preparing metadata (setup.py) ... \u001b[?25l\u001b[?25hdone\n",
      "Collecting python-Levenshtein\n",
      "  Downloading python_Levenshtein-0.26.1-py3-none-any.whl.metadata (3.7 kB)\n",
      "Collecting levenshtein\n",
      "  Downloading levenshtein-0.26.1-cp310-cp310-manylinux_2_17_x86_64.manylinux2014_x86_64.whl.metadata (3.2 kB)\n",
      "Requirement already satisfied: numpy>=1.21.2 in /usr/local/lib/python3.10/dist-packages (from opencv-python) (1.26.4)\n",
      "Requirement already satisfied: contourpy>=1.0.1 in /usr/local/lib/python3.10/dist-packages (from matplotlib) (1.3.1)\n",
      "Requirement already satisfied: cycler>=0.10 in /usr/local/lib/python3.10/dist-packages (from matplotlib) (0.12.1)\n",
      "Requirement already satisfied: fonttools>=4.22.0 in /usr/local/lib/python3.10/dist-packages (from matplotlib) (4.55.3)\n",
      "Requirement already satisfied: kiwisolver>=1.0.1 in /usr/local/lib/python3.10/dist-packages (from matplotlib) (1.4.7)\n",
      "Requirement already satisfied: packaging>=20.0 in /usr/local/lib/python3.10/dist-packages (from matplotlib) (24.2)\n",
      "Requirement already satisfied: pillow>=6.2.0 in /usr/local/lib/python3.10/dist-packages (from matplotlib) (11.0.0)\n",
      "Requirement already satisfied: pyparsing>=2.3.1 in /usr/local/lib/python3.10/dist-packages (from matplotlib) (3.2.0)\n",
      "Requirement already satisfied: python-dateutil>=2.7 in /usr/local/lib/python3.10/dist-packages (from matplotlib) (2.8.2)\n",
      "Requirement already satisfied: beautifulsoup4 in /usr/local/lib/python3.10/dist-packages (from gdown) (4.12.3)\n",
      "Requirement already satisfied: filelock in /usr/local/lib/python3.10/dist-packages (from gdown) (3.16.1)\n",
      "Requirement already satisfied: requests[socks] in /usr/local/lib/python3.10/dist-packages (from gdown) (2.32.3)\n",
      "Requirement already satisfied: tqdm in /usr/local/lib/python3.10/dist-packages (from gdown) (4.67.1)\n",
      "Requirement already satisfied: absl-py>=1.0.0 in /usr/local/lib/python3.10/dist-packages (from tensorflow) (1.4.0)\n",
      "Requirement already satisfied: astunparse>=1.6.0 in /usr/local/lib/python3.10/dist-packages (from tensorflow) (1.6.3)\n",
      "Requirement already satisfied: flatbuffers>=24.3.25 in /usr/local/lib/python3.10/dist-packages (from tensorflow) (24.3.25)\n",
      "Requirement already satisfied: gast!=0.5.0,!=0.5.1,!=0.5.2,>=0.2.1 in /usr/local/lib/python3.10/dist-packages (from tensorflow) (0.6.0)\n",
      "Requirement already satisfied: google-pasta>=0.1.1 in /usr/local/lib/python3.10/dist-packages (from tensorflow) (0.2.0)\n",
      "Requirement already satisfied: h5py>=3.10.0 in /usr/local/lib/python3.10/dist-packages (from tensorflow) (3.12.1)\n",
      "Requirement already satisfied: libclang>=13.0.0 in /usr/local/lib/python3.10/dist-packages (from tensorflow) (18.1.1)\n",
      "Requirement already satisfied: ml-dtypes<0.5.0,>=0.3.1 in /usr/local/lib/python3.10/dist-packages (from tensorflow) (0.4.1)\n",
      "Requirement already satisfied: opt-einsum>=2.3.2 in /usr/local/lib/python3.10/dist-packages (from tensorflow) (3.4.0)\n",
      "Requirement already satisfied: protobuf!=4.21.0,!=4.21.1,!=4.21.2,!=4.21.3,!=4.21.4,!=4.21.5,<5.0.0dev,>=3.20.3 in /usr/local/lib/python3.10/dist-packages (from tensorflow) (3.20.3)\n",
      "Requirement already satisfied: setuptools in /usr/local/lib/python3.10/dist-packages (from tensorflow) (75.1.0)\n",
      "Requirement already satisfied: six>=1.12.0 in /usr/local/lib/python3.10/dist-packages (from tensorflow) (1.17.0)\n",
      "Requirement already satisfied: termcolor>=1.1.0 in /usr/local/lib/python3.10/dist-packages (from tensorflow) (2.5.0)\n",
      "Requirement already satisfied: typing-extensions>=3.6.6 in /usr/local/lib/python3.10/dist-packages (from tensorflow) (4.12.2)\n",
      "Requirement already satisfied: wrapt>=1.11.0 in /usr/local/lib/python3.10/dist-packages (from tensorflow) (1.17.0)\n",
      "Requirement already satisfied: grpcio<2.0,>=1.24.3 in /usr/local/lib/python3.10/dist-packages (from tensorflow) (1.68.1)\n",
      "Requirement already satisfied: tensorboard<2.18,>=2.17 in /usr/local/lib/python3.10/dist-packages (from tensorflow) (2.17.1)\n",
      "Requirement already satisfied: keras>=3.2.0 in /usr/local/lib/python3.10/dist-packages (from tensorflow) (3.5.0)\n",
      "Requirement already satisfied: tensorflow-io-gcs-filesystem>=0.23.1 in /usr/local/lib/python3.10/dist-packages (from tensorflow) (0.37.1)\n",
      "Collecting rapidfuzz<4.0.0,>=3.9.0 (from levenshtein)\n",
      "  Downloading rapidfuzz-3.12.1-cp310-cp310-manylinux_2_17_x86_64.manylinux2014_x86_64.whl.metadata (11 kB)\n",
      "Requirement already satisfied: wheel<1.0,>=0.23.0 in /usr/local/lib/python3.10/dist-packages (from astunparse>=1.6.0->tensorflow) (0.45.1)\n",
      "Requirement already satisfied: rich in /usr/local/lib/python3.10/dist-packages (from keras>=3.2.0->tensorflow) (13.9.4)\n",
      "Requirement already satisfied: namex in /usr/local/lib/python3.10/dist-packages (from keras>=3.2.0->tensorflow) (0.0.8)\n",
      "Requirement already satisfied: optree in /usr/local/lib/python3.10/dist-packages (from keras>=3.2.0->tensorflow) (0.13.1)\n",
      "Requirement already satisfied: mkl_fft in /usr/local/lib/python3.10/dist-packages (from numpy>=1.21.2->opencv-python) (1.3.8)\n",
      "Requirement already satisfied: mkl_random in /usr/local/lib/python3.10/dist-packages (from numpy>=1.21.2->opencv-python) (1.2.4)\n",
      "Requirement already satisfied: mkl_umath in /usr/local/lib/python3.10/dist-packages (from numpy>=1.21.2->opencv-python) (0.1.1)\n",
      "Requirement already satisfied: mkl in /usr/local/lib/python3.10/dist-packages (from numpy>=1.21.2->opencv-python) (2025.0.1)\n",
      "Requirement already satisfied: tbb4py in /usr/local/lib/python3.10/dist-packages (from numpy>=1.21.2->opencv-python) (2022.0.0)\n",
      "Requirement already satisfied: mkl-service in /usr/local/lib/python3.10/dist-packages (from numpy>=1.21.2->opencv-python) (2.4.1)\n",
      "Requirement already satisfied: charset-normalizer<4,>=2 in /usr/local/lib/python3.10/dist-packages (from requests[socks]->gdown) (3.4.0)\n",
      "Requirement already satisfied: idna<4,>=2.5 in /usr/local/lib/python3.10/dist-packages (from requests[socks]->gdown) (3.10)\n",
      "Requirement already satisfied: urllib3<3,>=1.21.1 in /usr/local/lib/python3.10/dist-packages (from requests[socks]->gdown) (2.2.3)\n",
      "Requirement already satisfied: certifi>=2017.4.17 in /usr/local/lib/python3.10/dist-packages (from requests[socks]->gdown) (2024.12.14)\n",
      "Requirement already satisfied: markdown>=2.6.8 in /usr/local/lib/python3.10/dist-packages (from tensorboard<2.18,>=2.17->tensorflow) (3.7)\n",
      "Requirement already satisfied: tensorboard-data-server<0.8.0,>=0.7.0 in /usr/local/lib/python3.10/dist-packages (from tensorboard<2.18,>=2.17->tensorflow) (0.7.2)\n",
      "Requirement already satisfied: werkzeug>=1.0.1 in /usr/local/lib/python3.10/dist-packages (from tensorboard<2.18,>=2.17->tensorflow) (3.1.3)\n",
      "Requirement already satisfied: soupsieve>1.2 in /usr/local/lib/python3.10/dist-packages (from beautifulsoup4->gdown) (2.6)\n",
      "Requirement already satisfied: PySocks!=1.5.7,>=1.5.6 in /usr/local/lib/python3.10/dist-packages (from requests[socks]->gdown) (1.7.1)\n",
      "Requirement already satisfied: MarkupSafe>=2.1.1 in /usr/local/lib/python3.10/dist-packages (from werkzeug>=1.0.1->tensorboard<2.18,>=2.17->tensorflow) (3.0.2)\n",
      "Requirement already satisfied: intel-openmp>=2024 in /usr/local/lib/python3.10/dist-packages (from mkl->numpy>=1.21.2->opencv-python) (2024.2.0)\n",
      "Requirement already satisfied: tbb==2022.* in /usr/local/lib/python3.10/dist-packages (from mkl->numpy>=1.21.2->opencv-python) (2022.0.0)\n",
      "Requirement already satisfied: tcmlib==1.* in /usr/local/lib/python3.10/dist-packages (from tbb==2022.*->mkl->numpy>=1.21.2->opencv-python) (1.2.0)\n",
      "Requirement already satisfied: intel-cmplr-lib-rt in /usr/local/lib/python3.10/dist-packages (from mkl_umath->numpy>=1.21.2->opencv-python) (2024.2.0)\n",
      "Requirement already satisfied: markdown-it-py>=2.2.0 in /usr/local/lib/python3.10/dist-packages (from rich->keras>=3.2.0->tensorflow) (3.0.0)\n",
      "Requirement already satisfied: pygments<3.0.0,>=2.13.0 in /usr/local/lib/python3.10/dist-packages (from rich->keras>=3.2.0->tensorflow) (2.18.0)\n",
      "Requirement already satisfied: intel-cmplr-lib-ur==2024.2.0 in /usr/local/lib/python3.10/dist-packages (from intel-openmp>=2024->mkl->numpy>=1.21.2->opencv-python) (2024.2.0)\n",
      "Requirement already satisfied: mdurl~=0.1 in /usr/local/lib/python3.10/dist-packages (from markdown-it-py>=2.2.0->rich->keras>=3.2.0->tensorflow) (0.1.2)\n",
      "Downloading python_Levenshtein-0.26.1-py3-none-any.whl (9.4 kB)\n",
      "Downloading levenshtein-0.26.1-cp310-cp310-manylinux_2_17_x86_64.manylinux2014_x86_64.whl (162 kB)\n",
      "\u001b[2K   \u001b[90m━━━━━━━━━━━━━━━━━━━━━━━━━━━━━━━━━━━━━━━━\u001b[0m \u001b[32m162.6/162.6 kB\u001b[0m \u001b[31m12.9 MB/s\u001b[0m eta \u001b[36m0:00:00\u001b[0m\n",
      "\u001b[?25hDownloading rapidfuzz-3.12.1-cp310-cp310-manylinux_2_17_x86_64.manylinux2014_x86_64.whl (3.1 MB)\n",
      "\u001b[2K   \u001b[90m━━━━━━━━━━━━━━━━━━━━━━━━━━━━━━━━━━━━━━━━\u001b[0m \u001b[32m3.1/3.1 MB\u001b[0m \u001b[31m56.0 MB/s\u001b[0m eta \u001b[36m0:00:00\u001b[0m00:01\u001b[0m\n",
      "\u001b[?25hBuilding wheels for collected packages: wordninja\n",
      "  Building wheel for wordninja (setup.py) ... \u001b[?25l\u001b[?25hdone\n",
      "  Created wheel for wordninja: filename=wordninja-2.0.0-py3-none-any.whl size=541530 sha256=7c4f31a6bd839a729c6b1ce5d546d45c7ef41ad8c0d1b72e7e13361c32b92fd7\n",
      "  Stored in directory: /root/.cache/pip/wheels/aa/44/3a/f2a5c1859b8b541ded969b4cd12d0a58897f12408f4f51e084\n",
      "Successfully built wordninja\n",
      "Installing collected packages: wordninja, rapidfuzz, levenshtein, python-Levenshtein\n",
      "Successfully installed levenshtein-0.26.1 python-Levenshtein-0.26.1 rapidfuzz-3.12.1 wordninja-2.0.0\n"
     ]
    }
   ],
   "source": [
    "# open this to install all the required packages\n",
    "#!pip install opencv-python matplotlib imageio gdown tensorflow wordninja python-Levenshtein levenshtein"
   ]
  },
  {
   "cell_type": "markdown",
   "metadata": {},
   "source": [
    "# 1. Import Required Libraries"
   ]
  },
  {
   "cell_type": "code",
   "execution_count": 2,
   "metadata": {
    "execution": {
     "iopub.execute_input": "2025-02-02T20:38:54.603221Z",
     "iopub.status.busy": "2025-02-02T20:38:54.602979Z",
     "iopub.status.idle": "2025-02-02T20:39:06.986547Z",
     "shell.execute_reply": "2025-02-02T20:39:06.985905Z",
     "shell.execute_reply.started": "2025-02-02T20:38:54.603201Z"
    },
    "trusted": true
   },
   "outputs": [],
   "source": [
    "import os\n",
    "import cv2\n",
    "import tensorflow as tf\n",
    "import numpy as np\n",
    "from typing import List\n",
    "from matplotlib import pyplot as plt\n",
    "import imageio\n",
    "import gdown\n",
    "import zipfile\n",
    "from tensorflow.keras.callbacks import LearningRateScheduler ,ModelCheckpoint ,EarlyStopping\n",
    "from tensorflow.keras.optimizers import Adam\n",
    "from tensorflow.keras.models import Sequential\n",
    "from tensorflow.keras.layers import Conv3D, LSTM, Dense, Dropout, Bidirectional, MaxPool3D, Activation, Reshape, TimeDistributed, Flatten, Input\n",
    "from Levenshtein import distance as levenshtein_distance\n",
    "import wordninja"
   ]
  },
  {
   "cell_type": "markdown",
   "metadata": {},
   "source": [
    "# 2. Use GPu"
   ]
  },
  {
   "cell_type": "code",
   "execution_count": 3,
   "metadata": {
    "execution": {
     "iopub.execute_input": "2025-02-02T20:39:06.988502Z",
     "iopub.status.busy": "2025-02-02T20:39:06.987961Z",
     "iopub.status.idle": "2025-02-02T20:39:07.649586Z",
     "shell.execute_reply": "2025-02-02T20:39:07.648606Z",
     "shell.execute_reply.started": "2025-02-02T20:39:06.988477Z"
    },
    "trusted": true
   },
   "outputs": [
    {
     "name": "stdout",
     "output_type": "stream",
     "text": [
      "GPU is available!\n",
      "GPU: PhysicalDevice(name='/physical_device:GPU:0', device_type='GPU')\n",
      "GPU: PhysicalDevice(name='/physical_device:GPU:1', device_type='GPU')\n"
     ]
    }
   ],
   "source": [
    "tf.debugging.set_log_device_placement(False)\n",
    "\n",
    "gpus = tf.config.list_physical_devices('GPU')\n",
    "if gpus:\n",
    "    print(\"GPU is available!\")\n",
    "    for gpu in gpus:\n",
    "        print(f\"GPU: {gpu}\")\n",
    "else:\n",
    "    print(\"No GPU found. Using CPU.\")"
   ]
  },
  {
   "cell_type": "code",
   "execution_count": 4,
   "metadata": {
    "execution": {
     "iopub.execute_input": "2025-02-02T20:39:07.651710Z",
     "iopub.status.busy": "2025-02-02T20:39:07.651356Z",
     "iopub.status.idle": "2025-02-02T20:39:07.709028Z",
     "shell.execute_reply": "2025-02-02T20:39:07.708119Z",
     "shell.execute_reply.started": "2025-02-02T20:39:07.651675Z"
    },
    "trusted": true
   },
   "outputs": [],
   "source": [
    "import os\n",
    "\n",
    "os.environ[\"CUDA_VISIBLE_DEVICES\"] = \"0\"\n",
    "\n",
    "gpus = tf.config.list_physical_devices('GPU')\n",
    "# print(f\"Available GPUs: {gpus}\")\n",
    "import os\n",
    "os.environ['TF_CPP_MIN_LOG_LEVEL'] = '3' \n"
   ]
  },
  {
   "cell_type": "code",
   "execution_count": 5,
   "metadata": {
    "execution": {
     "iopub.execute_input": "2025-02-02T20:39:07.710297Z",
     "iopub.status.busy": "2025-02-02T20:39:07.709956Z",
     "iopub.status.idle": "2025-02-02T20:39:07.721079Z",
     "shell.execute_reply": "2025-02-02T20:39:07.720307Z",
     "shell.execute_reply.started": "2025-02-02T20:39:07.710272Z"
    },
    "trusted": true
   },
   "outputs": [],
   "source": [
    "gpus = tf.config.list_physical_devices('GPU')\n",
    "if gpus:\n",
    "    try:\n",
    "        for gpu in gpus:\n",
    "            tf.config.experimental.set_memory_growth(gpu, True)\n",
    "        # print(\"GPU memory growth enabled.\")\n",
    "    except RuntimeError as e:\n",
    "        print(e)"
   ]
  },
  {
   "cell_type": "code",
   "execution_count": 6,
   "metadata": {
    "execution": {
     "iopub.execute_input": "2025-02-02T20:39:07.722312Z",
     "iopub.status.busy": "2025-02-02T20:39:07.722006Z",
     "iopub.status.idle": "2025-02-02T20:39:07.733709Z",
     "shell.execute_reply": "2025-02-02T20:39:07.732817Z",
     "shell.execute_reply.started": "2025-02-02T20:39:07.722282Z"
    },
    "trusted": true
   },
   "outputs": [],
   "source": [
    "import tensorflow as tf\n",
    "os.environ[\"TF_CPP_MIN_LOG_LEVEL\"] = \"3\" \n",
    "tf.get_logger().setLevel(\"ERROR\")  \n"
   ]
  },
  {
   "cell_type": "markdown",
   "metadata": {},
   "source": [
    "# 3. download and prepare data"
   ]
  },
  {
   "cell_type": "code",
   "execution_count": 7,
   "metadata": {
    "execution": {
     "iopub.execute_input": "2025-02-02T20:39:07.734848Z",
     "iopub.status.busy": "2025-02-02T20:39:07.734538Z",
     "iopub.status.idle": "2025-02-02T20:39:17.529150Z",
     "shell.execute_reply": "2025-02-02T20:39:17.528242Z",
     "shell.execute_reply.started": "2025-02-02T20:39:07.734819Z"
    },
    "trusted": true
   },
   "outputs": [
    {
     "name": "stderr",
     "output_type": "stream",
     "text": [
      "Downloading...\n",
      "From (original): https://drive.google.com/uc?id=1YlvpDLix3S-U8fd-gqRwPcWXAXm8JwjL\n",
      "From (redirected): https://drive.google.com/uc?id=1YlvpDLix3S-U8fd-gqRwPcWXAXm8JwjL&confirm=t&uuid=f64715b7-ffd3-40b9-b953-11c8ada901dd\n",
      "To: /kaggle/working/lip_data.zip\n",
      "100%|██████████| 423M/423M [00:03<00:00, 140MB/s]  \n"
     ]
    }
   ],
   "source": [
    "dataset_url = 'https://drive.google.com/uc?id=1YlvpDLix3S-U8fd-gqRwPcWXAXm8JwjL'\n",
    "output_file = 'lip_data.zip'\n",
    "gdown.download(dataset_url, output_file, quiet=False)\n",
    "with zipfile.ZipFile(output_file, 'r') as zip_ref:\n",
    "    zip_ref.extractall('lip_data')"
   ]
  },
  {
   "cell_type": "markdown",
   "metadata": {},
   "source": [
    "# 4. data preprocessing"
   ]
  },
  {
   "cell_type": "code",
   "execution_count": 8,
   "metadata": {
    "execution": {
     "iopub.execute_input": "2025-02-02T20:39:17.532174Z",
     "iopub.status.busy": "2025-02-02T20:39:17.531947Z",
     "iopub.status.idle": "2025-02-02T20:39:17.858980Z",
     "shell.execute_reply": "2025-02-02T20:39:17.858181Z",
     "shell.execute_reply.started": "2025-02-02T20:39:17.532156Z"
    },
    "trusted": true
   },
   "outputs": [
    {
     "name": "stdout",
     "output_type": "stream",
     "text": [
      "Vocabulary size: 40\n"
     ]
    }
   ],
   "source": [
    "vocab = [x for x in \"abcdefghijklmnopqrstuvwxyz'?!123456789 \"]\n",
    "\n",
    "char_to_index = tf.keras.layers.StringLookup(vocabulary=vocab, oov_token=\"\")\n",
    "print(f\"Vocabulary size: {char_to_index.vocabulary_size()}\")\n",
    "num_to_char = tf.keras.layers.StringLookup(\n",
    "    vocabulary=char_to_index.get_vocabulary(),\n",
    "    invert=True, \n",
    "    oov_token=\"\"\n",
    ")"
   ]
  },
  {
   "cell_type": "code",
   "execution_count": 9,
   "metadata": {
    "execution": {
     "iopub.execute_input": "2025-02-02T20:39:17.861004Z",
     "iopub.status.busy": "2025-02-02T20:39:17.860709Z",
     "iopub.status.idle": "2025-02-02T20:39:17.868123Z",
     "shell.execute_reply": "2025-02-02T20:39:17.867120Z",
     "shell.execute_reply.started": "2025-02-02T20:39:17.860978Z"
    },
    "trusted": true
   },
   "outputs": [],
   "source": [
    "def extract_mouth_region(video_path: str) -> np.ndarray:\n",
    "    cap = cv2.VideoCapture(video_path)\n",
    "    frames = []\n",
    "    while cap.isOpened():\n",
    "        ret, frame = cap.read()\n",
    "        \n",
    "        if not ret:\n",
    "            break\n",
    "        gray_frame = cv2.cvtColor(frame, cv2.COLOR_BGR2GRAY)\n",
    "        mouth_region = gray_frame[180:240, 80:220]\n",
    "        frames.append(mouth_region)\n",
    "    cap.release()\n",
    "    # print(frames)\n",
    "    \n",
    "    if len(frames)>75 :\n",
    "        frames = frames[:75]\n",
    "    else:\n",
    "        frames.extend([frames[-1]] * (75-len(frames)))\n",
    "    frames = np.array(frames, dtype=np.float32)\n",
    "    frames = (frames-np.mean(frames)) / np.std(frames)\n",
    "    # print(frames)\n",
    "    # print(\"------------------------sam--------------\")\n",
    "    # print(len(frames))\n",
    "    return np.expand_dims(frames, axis=-1)"
   ]
  },
  {
   "cell_type": "code",
   "execution_count": 10,
   "metadata": {
    "execution": {
     "iopub.execute_input": "2025-02-02T20:39:17.869160Z",
     "iopub.status.busy": "2025-02-02T20:39:17.868881Z",
     "iopub.status.idle": "2025-02-02T20:39:17.881351Z",
     "shell.execute_reply": "2025-02-02T20:39:17.880498Z",
     "shell.execute_reply.started": "2025-02-02T20:39:17.869132Z"
    },
    "trusted": true
   },
   "outputs": [],
   "source": [
    "def load_transcription(transcription_path: str) ->  tf.Tensor:\n",
    "\n",
    "    with open(transcription_path, 'r') as file:\n",
    "        lines = file.readlines()\n",
    "    tokens = []\n",
    "    for line in lines:\n",
    "        parts = line.split()\n",
    "        if parts[2] != 'sil':  \n",
    "            tokens.extend(list(parts[2]))  \n",
    "    return char_to_index(tf.constant(tokens))"
   ]
  },
  {
   "cell_type": "code",
   "execution_count": 11,
   "metadata": {
    "execution": {
     "iopub.execute_input": "2025-02-02T20:39:17.882422Z",
     "iopub.status.busy": "2025-02-02T20:39:17.882148Z",
     "iopub.status.idle": "2025-02-02T20:39:17.893082Z",
     "shell.execute_reply": "2025-02-02T20:39:17.892131Z",
     "shell.execute_reply.started": "2025-02-02T20:39:17.882398Z"
    },
    "trusted": true
   },
   "outputs": [],
   "source": [
    "def load_lip_data_with_augmentation(file_path: str):\n",
    "    file_path = bytes.decode(file_path.numpy())\n",
    "    file_name = file_path.split('/')[-1].split('.')[0] \n",
    "    video_file = os.path.join('/kaggle/working/lip_data/data/s1', f'{file_name}.mpg')\n",
    "    transcription_file = os.path.join('/kaggle/working/lip_data/data/alignments/s1', f'{file_name}.align')\n",
    "    video_frames = extract_mouth_region(video_file)\n",
    "    transcription = load_transcription(transcription_file)\n",
    "    # print(file_path)\n",
    "    # print(\"-----------------------\")\n",
    "    # print(file_name)\n",
    "    # print(\"------------------------\")\n",
    "    # print(len(video_frames))\n",
    "\n",
    "    if np.random.rand()>0.5:\n",
    "        video_frames = np.flip(video_frames, axis=2)  \n",
    "    return video_frames, transcription"
   ]
  },
  {
   "cell_type": "code",
   "execution_count": 12,
   "metadata": {
    "execution": {
     "iopub.execute_input": "2025-02-02T20:39:17.894119Z",
     "iopub.status.busy": "2025-02-02T20:39:17.893842Z",
     "iopub.status.idle": "2025-02-02T20:39:17.909228Z",
     "shell.execute_reply": "2025-02-02T20:39:17.908395Z",
     "shell.execute_reply.started": "2025-02-02T20:39:17.894094Z"
    },
    "trusted": true
   },
   "outputs": [],
   "source": [
    "def map_data_with_augmentation(file_path: str):\n",
    "    result = tf.py_function(load_lip_data_with_augmentation, [file_path], (tf.float32, tf.int64))\n",
    "    return result"
   ]
  },
  {
   "cell_type": "code",
   "execution_count": 13,
   "metadata": {
    "execution": {
     "iopub.execute_input": "2025-02-02T20:39:17.910375Z",
     "iopub.status.busy": "2025-02-02T20:39:17.910118Z",
     "iopub.status.idle": "2025-02-02T20:39:18.003534Z",
     "shell.execute_reply": "2025-02-02T20:39:18.002824Z",
     "shell.execute_reply.started": "2025-02-02T20:39:17.910351Z"
    },
    "trusted": true
   },
   "outputs": [],
   "source": [
    "lip_dataset = tf.data.Dataset.list_files('/kaggle/working/lip_data/data/s1/*.mpg', shuffle=False)\n",
    "lip_dataset = lip_dataset.shuffle(500, reshuffle_each_iteration=False)\n",
    "lip_dataset = lip_dataset.map(map_data_with_augmentation)\n",
    "lip_dataset = lip_dataset.padded_batch(2, padded_shapes=([75, 60, 140, 1], [40]))\n",
    "lip_dataset = lip_dataset.prefetch(tf.data.AUTOTUNE)"
   ]
  },
  {
   "cell_type": "code",
   "execution_count": 14,
   "metadata": {
    "execution": {
     "iopub.execute_input": "2025-02-02T20:39:18.004629Z",
     "iopub.status.busy": "2025-02-02T20:39:18.004367Z",
     "iopub.status.idle": "2025-02-02T20:39:18.009630Z",
     "shell.execute_reply": "2025-02-02T20:39:18.008694Z",
     "shell.execute_reply.started": "2025-02-02T20:39:18.004605Z"
    },
    "trusted": true
   },
   "outputs": [
    {
     "name": "stdout",
     "output_type": "stream",
     "text": [
      "<_PrefetchDataset element_spec=(TensorSpec(shape=(None, 75, 60, 140, 1), dtype=tf.float32, name=None), TensorSpec(shape=(None, 40), dtype=tf.int64, name=None))>\n"
     ]
    }
   ],
   "source": [
    "print(lip_dataset)"
   ]
  },
  {
   "cell_type": "code",
   "execution_count": 15,
   "metadata": {
    "execution": {
     "iopub.execute_input": "2025-02-02T20:39:18.010739Z",
     "iopub.status.busy": "2025-02-02T20:39:18.010486Z",
     "iopub.status.idle": "2025-02-02T20:39:18.064015Z",
     "shell.execute_reply": "2025-02-02T20:39:18.063240Z",
     "shell.execute_reply.started": "2025-02-02T20:39:18.010715Z"
    },
    "trusted": true
   },
   "outputs": [],
   "source": [
    "sample = lip_dataset.as_numpy_iterator()"
   ]
  },
  {
   "cell_type": "code",
   "execution_count": 16,
   "metadata": {
    "execution": {
     "iopub.execute_input": "2025-02-02T20:39:18.065032Z",
     "iopub.status.busy": "2025-02-02T20:39:18.064763Z",
     "iopub.status.idle": "2025-02-02T20:39:18.282614Z",
     "shell.execute_reply": "2025-02-02T20:39:18.281703Z",
     "shell.execute_reply.started": "2025-02-02T20:39:18.065000Z"
    },
    "trusted": true
   },
   "outputs": [],
   "source": [
    "val = sample.next()"
   ]
  },
  {
   "cell_type": "code",
   "execution_count": 17,
   "metadata": {
    "execution": {
     "iopub.execute_input": "2025-02-02T20:39:18.284049Z",
     "iopub.status.busy": "2025-02-02T20:39:18.283707Z",
     "iopub.status.idle": "2025-02-02T20:39:18.634885Z",
     "shell.execute_reply": "2025-02-02T20:39:18.634126Z",
     "shell.execute_reply.started": "2025-02-02T20:39:18.284009Z"
    },
    "trusted": true
   },
   "outputs": [
    {
     "data": {
      "text/plain": [
       "<matplotlib.image.AxesImage at 0x7ed44a9e28f0>"
      ]
     },
     "execution_count": 17,
     "metadata": {},
     "output_type": "execute_result"
    },
    {
     "data": {
      "image/png": "[encoded data removed]",
      "text/plain": [
       "<Figure size 640x480 with 1 Axes>"
      ]
     },
     "metadata": {},
     "output_type": "display_data"
    }
   ],
   "source": [
    "plt.imshow(val[0][1][-1])"
   ]
  },
  {
   "cell_type": "code",
   "execution_count": 18,
   "metadata": {
    "execution": {
     "iopub.execute_input": "2025-02-02T20:39:18.635907Z",
     "iopub.status.busy": "2025-02-02T20:39:18.635683Z",
     "iopub.status.idle": "2025-02-02T20:39:18.680809Z",
     "shell.execute_reply": "2025-02-02T20:39:18.679903Z",
     "shell.execute_reply.started": "2025-02-02T20:39:18.635885Z"
    },
    "trusted": true
   },
   "outputs": [
    {
     "name": "stdout",
     "output_type": "stream",
     "text": [
      "Continuous decoded text: binblueinrsevensoon\n",
      "Segmented text: bin blue in r seven soon\n"
     ]
    }
   ],
   "source": [
    "decoded_continuous = tf.strings.reduce_join(\n",
    "    [num_to_char(token) for token in val[1][0]],\n",
    "    separator='' \n",
    ").numpy().decode('utf-8')\n",
    "\n",
    "print(\"Continuous decoded text:\", decoded_continuous)\n",
    "segmented_words = wordninja.split(decoded_continuous)\n",
    "decoded_text_with_spaces = ' '.join(segmented_words)\n",
    "\n",
    "print(\"Segmented text:\", decoded_text_with_spaces)\n"
   ]
  },
  {
   "cell_type": "code",
   "execution_count": 19,
   "metadata": {
    "execution": {
     "iopub.execute_input": "2025-02-02T20:39:18.682012Z",
     "iopub.status.busy": "2025-02-02T20:39:18.681760Z",
     "iopub.status.idle": "2025-02-02T20:39:18.695509Z",
     "shell.execute_reply": "2025-02-02T20:39:18.694674Z",
     "shell.execute_reply.started": "2025-02-02T20:39:18.681981Z"
    },
    "trusted": true
   },
   "outputs": [],
   "source": [
    "%%capture\n",
    "train_data = lip_dataset.take(350)\n",
    "test_data = lip_dataset.skip(300).take(50)"
   ]
  },
  {
   "cell_type": "code",
   "execution_count": 20,
   "metadata": {
    "execution": {
     "iopub.execute_input": "2025-02-02T20:39:18.696535Z",
     "iopub.status.busy": "2025-02-02T20:39:18.696347Z",
     "iopub.status.idle": "2025-02-02T20:39:18.701827Z",
     "shell.execute_reply": "2025-02-02T20:39:18.701146Z",
     "shell.execute_reply.started": "2025-02-02T20:39:18.696518Z"
    },
    "trusted": true
   },
   "outputs": [
    {
     "name": "stdout",
     "output_type": "stream",
     "text": [
      "350\n",
      "-------------------------\n",
      "50\n"
     ]
    }
   ],
   "source": [
    "print(len(train_data))\n",
    "print(\"-------------------------\")\n",
    "print(len(test_data))"
   ]
  },
  {
   "cell_type": "code",
   "execution_count": 21,
   "metadata": {
    "execution": {
     "iopub.execute_input": "2025-02-02T20:39:18.702953Z",
     "iopub.status.busy": "2025-02-02T20:39:18.702639Z",
     "iopub.status.idle": "2025-02-02T20:39:18.714523Z",
     "shell.execute_reply": "2025-02-02T20:39:18.713841Z",
     "shell.execute_reply.started": "2025-02-02T20:39:18.702904Z"
    },
    "trusted": true
   },
   "outputs": [],
   "source": [
    "def custom_ctc_loss(y_true, y_pred):\n",
    "    batch_size = tf.cast(tf.shape(y_true)[0], dtype=\"int64\")\n",
    "    input_length = tf.cast(tf.shape(y_pred)[1], dtype=\"int64\")\n",
    "    label_length = tf.cast(tf.shape(y_true)[1], dtype=\"int64\")\n",
    "\n",
    "    input_length = input_length * tf.ones(shape=(batch_size, 1), dtype=\"int64\")\n",
    "    label_length = label_length * tf.ones(shape=(batch_size, 1), dtype=\"int64\")\n",
    "\n",
    "    loss = tf.keras.backend.ctc_batch_cost(y_true, y_pred, input_length, label_length)\n",
    "    return loss"
   ]
  },
  {
   "cell_type": "code",
   "execution_count": 22,
   "metadata": {
    "execution": {
     "iopub.execute_input": "2025-02-02T20:39:18.715343Z",
     "iopub.status.busy": "2025-02-02T20:39:18.715173Z",
     "iopub.status.idle": "2025-02-02T20:39:18.728939Z",
     "shell.execute_reply": "2025-02-02T20:39:18.728155Z",
     "shell.execute_reply.started": "2025-02-02T20:39:18.715327Z"
    },
    "trusted": true
   },
   "outputs": [],
   "source": [
    "os.environ[\"CUDA_VISIBLE_DEVICES\"] = \"0,1\""
   ]
  },
  {
   "cell_type": "markdown",
   "metadata": {},
   "source": [
    "# 5. define the model"
   ]
  },
  {
   "cell_type": "code",
   "execution_count": 23,
   "metadata": {
    "execution": {
     "iopub.execute_input": "2025-02-02T20:39:18.733086Z",
     "iopub.status.busy": "2025-02-02T20:39:18.732862Z",
     "iopub.status.idle": "2025-02-02T20:39:23.173262Z",
     "shell.execute_reply": "2025-02-02T20:39:23.172258Z",
     "shell.execute_reply.started": "2025-02-02T20:39:18.733056Z"
    },
    "trusted": true
   },
   "outputs": [],
   "source": [
    "%%capture\n",
    "lip_model = Sequential()\n",
    "lip_model.add(Input(shape=(75, 60, 140, 1)))  \n",
    "lip_model.add(Conv3D(32, (3, 3, 3), padding='same'))\n",
    "lip_model.add(Activation('relu'))\n",
    "lip_model.add(MaxPool3D((1, 2, 2)))\n",
    "lip_model.add(Conv3D(64, (3, 3, 3), padding='same'))\n",
    "lip_model.add(Activation('relu'))\n",
    "lip_model.add(MaxPool3D((1, 2, 2)))\n",
    "lip_model.add(Conv3D(128, (3, 3, 3), padding='same'))\n",
    "lip_model.add(Activation('relu'))\n",
    "lip_model.add(MaxPool3D((1, 2, 2)))\n",
    "lip_model.add(TimeDistributed(Flatten()))\n",
    "lip_model.add(Bidirectional(LSTM(128, kernel_initializer='Orthogonal', return_sequences=True)))\n",
    "lip_model.add(Dropout(0.5))\n",
    "lip_model.add(Bidirectional(LSTM(128, kernel_initializer='Orthogonal', return_sequences=True)))\n",
    "lip_model.add(Dropout(0.5))\n",
    "lip_model.add(Dense(char_to_index.vocabulary_size() + 1, kernel_initializer='he_normal', activation='softmax'))\n"
   ]
  },
  {
   "cell_type": "markdown",
   "metadata": {},
   "source": [
    "# 6. compile the model"
   ]
  },
  {
   "cell_type": "code",
   "execution_count": 24,
   "metadata": {
    "execution": {
     "iopub.execute_input": "2025-02-02T20:39:23.175171Z",
     "iopub.status.busy": "2025-02-02T20:39:23.174853Z",
     "iopub.status.idle": "2025-02-02T20:39:23.187836Z",
     "shell.execute_reply": "2025-02-02T20:39:23.187191Z",
     "shell.execute_reply.started": "2025-02-02T20:39:23.175140Z"
    },
    "trusted": true
   },
   "outputs": [],
   "source": [
    "optimizer = Adam(learning_rate=0.0001)\n",
    "lip_model.compile(optimizer=optimizer, loss=custom_ctc_loss)"
   ]
  },
  {
   "cell_type": "code",
   "execution_count": 25,
   "metadata": {
    "execution": {
     "iopub.execute_input": "2025-02-02T20:39:23.188812Z",
     "iopub.status.busy": "2025-02-02T20:39:23.188549Z",
     "iopub.status.idle": "2025-02-02T20:39:24.707248Z",
     "shell.execute_reply": "2025-02-02T20:39:24.706481Z",
     "shell.execute_reply.started": "2025-02-02T20:39:23.188792Z"
    },
    "trusted": true
   },
   "outputs": [
    {
     "data": {
      "text/html": [
       "<pre style=\"white-space:pre;overflow-x:auto;line-height:normal;font-family:Menlo,'DejaVu Sans Mono',consolas,'Courier New',monospace\"><span style=\"font-weight: bold\">Model: \"sequential\"</span>\n",
       "</pre>\n"
      ],
      "text/plain": [
       "\u001b[1mModel: \"sequential\"\u001b[0m\n"
      ]
     },
     "metadata": {},
     "output_type": "display_data"
    },
    {
     "data": {
      "text/html": [
       "<pre style=\"white-space:pre;overflow-x:auto;line-height:normal;font-family:Menlo,'DejaVu Sans Mono',consolas,'Courier New',monospace\">┏━━━━━━━━━━━━━━━━━━━━━━━━━━━━━━━━━━━━━━┳━━━━━━━━━━━━━━━━━━━━━━━━━━━━━┳━━━━━━━━━━━━━━━━━┓\n",
       "┃<span style=\"font-weight: bold\"> Layer (type)                         </span>┃<span style=\"font-weight: bold\"> Output Shape                </span>┃<span style=\"font-weight: bold\">         Param # </span>┃\n",
       "┡━━━━━━━━━━━━━━━━━━━━━━━━━━━━━━━━━━━━━━╇━━━━━━━━━━━━━━━━━━━━━━━━━━━━━╇━━━━━━━━━━━━━━━━━┩\n",
       "│ conv3d (<span style=\"color: #0087ff; text-decoration-color: #0087ff\">Conv3D</span>)                      │ (<span style=\"color: #00d7ff; text-decoration-color: #00d7ff\">None</span>, <span style=\"color: #00af00; text-decoration-color: #00af00\">75</span>, <span style=\"color: #00af00; text-decoration-color: #00af00\">60</span>, <span style=\"color: #00af00; text-decoration-color: #00af00\">140</span>, <span style=\"color: #00af00; text-decoration-color: #00af00\">32</span>)     │             <span style=\"color: #00af00; text-decoration-color: #00af00\">896</span> │\n",
       "├──────────────────────────────────────┼─────────────────────────────┼─────────────────┤\n",
       "│ activation (<span style=\"color: #0087ff; text-decoration-color: #0087ff\">Activation</span>)              │ (<span style=\"color: #00d7ff; text-decoration-color: #00d7ff\">None</span>, <span style=\"color: #00af00; text-decoration-color: #00af00\">75</span>, <span style=\"color: #00af00; text-decoration-color: #00af00\">60</span>, <span style=\"color: #00af00; text-decoration-color: #00af00\">140</span>, <span style=\"color: #00af00; text-decoration-color: #00af00\">32</span>)     │               <span style=\"color: #00af00; text-decoration-color: #00af00\">0</span> │\n",
       "├──────────────────────────────────────┼─────────────────────────────┼─────────────────┤\n",
       "│ max_pooling3d (<span style=\"color: #0087ff; text-decoration-color: #0087ff\">MaxPooling3D</span>)         │ (<span style=\"color: #00d7ff; text-decoration-color: #00d7ff\">None</span>, <span style=\"color: #00af00; text-decoration-color: #00af00\">75</span>, <span style=\"color: #00af00; text-decoration-color: #00af00\">30</span>, <span style=\"color: #00af00; text-decoration-color: #00af00\">70</span>, <span style=\"color: #00af00; text-decoration-color: #00af00\">32</span>)      │               <span style=\"color: #00af00; text-decoration-color: #00af00\">0</span> │\n",
       "├──────────────────────────────────────┼─────────────────────────────┼─────────────────┤\n",
       "│ conv3d_1 (<span style=\"color: #0087ff; text-decoration-color: #0087ff\">Conv3D</span>)                    │ (<span style=\"color: #00d7ff; text-decoration-color: #00d7ff\">None</span>, <span style=\"color: #00af00; text-decoration-color: #00af00\">75</span>, <span style=\"color: #00af00; text-decoration-color: #00af00\">30</span>, <span style=\"color: #00af00; text-decoration-color: #00af00\">70</span>, <span style=\"color: #00af00; text-decoration-color: #00af00\">64</span>)      │          <span style=\"color: #00af00; text-decoration-color: #00af00\">55,360</span> │\n",
       "├──────────────────────────────────────┼─────────────────────────────┼─────────────────┤\n",
       "│ activation_1 (<span style=\"color: #0087ff; text-decoration-color: #0087ff\">Activation</span>)            │ (<span style=\"color: #00d7ff; text-decoration-color: #00d7ff\">None</span>, <span style=\"color: #00af00; text-decoration-color: #00af00\">75</span>, <span style=\"color: #00af00; text-decoration-color: #00af00\">30</span>, <span style=\"color: #00af00; text-decoration-color: #00af00\">70</span>, <span style=\"color: #00af00; text-decoration-color: #00af00\">64</span>)      │               <span style=\"color: #00af00; text-decoration-color: #00af00\">0</span> │\n",
       "├──────────────────────────────────────┼─────────────────────────────┼─────────────────┤\n",
       "│ max_pooling3d_1 (<span style=\"color: #0087ff; text-decoration-color: #0087ff\">MaxPooling3D</span>)       │ (<span style=\"color: #00d7ff; text-decoration-color: #00d7ff\">None</span>, <span style=\"color: #00af00; text-decoration-color: #00af00\">75</span>, <span style=\"color: #00af00; text-decoration-color: #00af00\">15</span>, <span style=\"color: #00af00; text-decoration-color: #00af00\">35</span>, <span style=\"color: #00af00; text-decoration-color: #00af00\">64</span>)      │               <span style=\"color: #00af00; text-decoration-color: #00af00\">0</span> │\n",
       "├──────────────────────────────────────┼─────────────────────────────┼─────────────────┤\n",
       "│ conv3d_2 (<span style=\"color: #0087ff; text-decoration-color: #0087ff\">Conv3D</span>)                    │ (<span style=\"color: #00d7ff; text-decoration-color: #00d7ff\">None</span>, <span style=\"color: #00af00; text-decoration-color: #00af00\">75</span>, <span style=\"color: #00af00; text-decoration-color: #00af00\">15</span>, <span style=\"color: #00af00; text-decoration-color: #00af00\">35</span>, <span style=\"color: #00af00; text-decoration-color: #00af00\">128</span>)     │         <span style=\"color: #00af00; text-decoration-color: #00af00\">221,312</span> │\n",
       "├──────────────────────────────────────┼─────────────────────────────┼─────────────────┤\n",
       "│ activation_2 (<span style=\"color: #0087ff; text-decoration-color: #0087ff\">Activation</span>)            │ (<span style=\"color: #00d7ff; text-decoration-color: #00d7ff\">None</span>, <span style=\"color: #00af00; text-decoration-color: #00af00\">75</span>, <span style=\"color: #00af00; text-decoration-color: #00af00\">15</span>, <span style=\"color: #00af00; text-decoration-color: #00af00\">35</span>, <span style=\"color: #00af00; text-decoration-color: #00af00\">128</span>)     │               <span style=\"color: #00af00; text-decoration-color: #00af00\">0</span> │\n",
       "├──────────────────────────────────────┼─────────────────────────────┼─────────────────┤\n",
       "│ max_pooling3d_2 (<span style=\"color: #0087ff; text-decoration-color: #0087ff\">MaxPooling3D</span>)       │ (<span style=\"color: #00d7ff; text-decoration-color: #00d7ff\">None</span>, <span style=\"color: #00af00; text-decoration-color: #00af00\">75</span>, <span style=\"color: #00af00; text-decoration-color: #00af00\">7</span>, <span style=\"color: #00af00; text-decoration-color: #00af00\">17</span>, <span style=\"color: #00af00; text-decoration-color: #00af00\">128</span>)      │               <span style=\"color: #00af00; text-decoration-color: #00af00\">0</span> │\n",
       "├──────────────────────────────────────┼─────────────────────────────┼─────────────────┤\n",
       "│ time_distributed (<span style=\"color: #0087ff; text-decoration-color: #0087ff\">TimeDistributed</span>)   │ (<span style=\"color: #00d7ff; text-decoration-color: #00d7ff\">None</span>, <span style=\"color: #00af00; text-decoration-color: #00af00\">75</span>, <span style=\"color: #00af00; text-decoration-color: #00af00\">15232</span>)           │               <span style=\"color: #00af00; text-decoration-color: #00af00\">0</span> │\n",
       "├──────────────────────────────────────┼─────────────────────────────┼─────────────────┤\n",
       "│ bidirectional (<span style=\"color: #0087ff; text-decoration-color: #0087ff\">Bidirectional</span>)        │ (<span style=\"color: #00d7ff; text-decoration-color: #00d7ff\">None</span>, <span style=\"color: #00af00; text-decoration-color: #00af00\">75</span>, <span style=\"color: #00af00; text-decoration-color: #00af00\">256</span>)             │      <span style=\"color: #00af00; text-decoration-color: #00af00\">15,729,664</span> │\n",
       "├──────────────────────────────────────┼─────────────────────────────┼─────────────────┤\n",
       "│ dropout (<span style=\"color: #0087ff; text-decoration-color: #0087ff\">Dropout</span>)                    │ (<span style=\"color: #00d7ff; text-decoration-color: #00d7ff\">None</span>, <span style=\"color: #00af00; text-decoration-color: #00af00\">75</span>, <span style=\"color: #00af00; text-decoration-color: #00af00\">256</span>)             │               <span style=\"color: #00af00; text-decoration-color: #00af00\">0</span> │\n",
       "├──────────────────────────────────────┼─────────────────────────────┼─────────────────┤\n",
       "│ bidirectional_1 (<span style=\"color: #0087ff; text-decoration-color: #0087ff\">Bidirectional</span>)      │ (<span style=\"color: #00d7ff; text-decoration-color: #00d7ff\">None</span>, <span style=\"color: #00af00; text-decoration-color: #00af00\">75</span>, <span style=\"color: #00af00; text-decoration-color: #00af00\">256</span>)             │         <span style=\"color: #00af00; text-decoration-color: #00af00\">394,240</span> │\n",
       "├──────────────────────────────────────┼─────────────────────────────┼─────────────────┤\n",
       "│ dropout_1 (<span style=\"color: #0087ff; text-decoration-color: #0087ff\">Dropout</span>)                  │ (<span style=\"color: #00d7ff; text-decoration-color: #00d7ff\">None</span>, <span style=\"color: #00af00; text-decoration-color: #00af00\">75</span>, <span style=\"color: #00af00; text-decoration-color: #00af00\">256</span>)             │               <span style=\"color: #00af00; text-decoration-color: #00af00\">0</span> │\n",
       "├──────────────────────────────────────┼─────────────────────────────┼─────────────────┤\n",
       "│ dense (<span style=\"color: #0087ff; text-decoration-color: #0087ff\">Dense</span>)                        │ (<span style=\"color: #00d7ff; text-decoration-color: #00d7ff\">None</span>, <span style=\"color: #00af00; text-decoration-color: #00af00\">75</span>, <span style=\"color: #00af00; text-decoration-color: #00af00\">41</span>)              │          <span style=\"color: #00af00; text-decoration-color: #00af00\">10,537</span> │\n",
       "└──────────────────────────────────────┴─────────────────────────────┴─────────────────┘\n",
       "</pre>\n"
      ],
      "text/plain": [
       "┏━━━━━━━━━━━━━━━━━━━━━━━━━━━━━━━━━━━━━━┳━━━━━━━━━━━━━━━━━━━━━━━━━━━━━┳━━━━━━━━━━━━━━━━━┓\n",
       "┃\u001b[1m \u001b[0m\u001b[1mLayer (type)                        \u001b[0m\u001b[1m \u001b[0m┃\u001b[1m \u001b[0m\u001b[1mOutput Shape               \u001b[0m\u001b[1m \u001b[0m┃\u001b[1m \u001b[0m\u001b[1m        Param #\u001b[0m\u001b[1m \u001b[0m┃\n",
       "┡━━━━━━━━━━━━━━━━━━━━━━━━━━━━━━━━━━━━━━╇━━━━━━━━━━━━━━━━━━━━━━━━━━━━━╇━━━━━━━━━━━━━━━━━┩\n",
       "│ conv3d (\u001b[38;5;33mConv3D\u001b[0m)                      │ (\u001b[38;5;45mNone\u001b[0m, \u001b[38;5;34m75\u001b[0m, \u001b[38;5;34m60\u001b[0m, \u001b[38;5;34m140\u001b[0m, \u001b[38;5;34m32\u001b[0m)     │             \u001b[38;5;34m896\u001b[0m │\n",
       "├──────────────────────────────────────┼─────────────────────────────┼─────────────────┤\n",
       "│ activation (\u001b[38;5;33mActivation\u001b[0m)              │ (\u001b[38;5;45mNone\u001b[0m, \u001b[38;5;34m75\u001b[0m, \u001b[38;5;34m60\u001b[0m, \u001b[38;5;34m140\u001b[0m, \u001b[38;5;34m32\u001b[0m)     │               \u001b[38;5;34m0\u001b[0m │\n",
       "├──────────────────────────────────────┼─────────────────────────────┼─────────────────┤\n",
       "│ max_pooling3d (\u001b[38;5;33mMaxPooling3D\u001b[0m)         │ (\u001b[38;5;45mNone\u001b[0m, \u001b[38;5;34m75\u001b[0m, \u001b[38;5;34m30\u001b[0m, \u001b[38;5;34m70\u001b[0m, \u001b[38;5;34m32\u001b[0m)      │               \u001b[38;5;34m0\u001b[0m │\n",
       "├──────────────────────────────────────┼─────────────────────────────┼─────────────────┤\n",
       "│ conv3d_1 (\u001b[38;5;33mConv3D\u001b[0m)                    │ (\u001b[38;5;45mNone\u001b[0m, \u001b[38;5;34m75\u001b[0m, \u001b[38;5;34m30\u001b[0m, \u001b[38;5;34m70\u001b[0m, \u001b[38;5;34m64\u001b[0m)      │          \u001b[38;5;34m55,360\u001b[0m │\n",
       "├──────────────────────────────────────┼─────────────────────────────┼─────────────────┤\n",
       "│ activation_1 (\u001b[38;5;33mActivation\u001b[0m)            │ (\u001b[38;5;45mNone\u001b[0m, \u001b[38;5;34m75\u001b[0m, \u001b[38;5;34m30\u001b[0m, \u001b[38;5;34m70\u001b[0m, \u001b[38;5;34m64\u001b[0m)      │               \u001b[38;5;34m0\u001b[0m │\n",
       "├──────────────────────────────────────┼─────────────────────────────┼─────────────────┤\n",
       "│ max_pooling3d_1 (\u001b[38;5;33mMaxPooling3D\u001b[0m)       │ (\u001b[38;5;45mNone\u001b[0m, \u001b[38;5;34m75\u001b[0m, \u001b[38;5;34m15\u001b[0m, \u001b[38;5;34m35\u001b[0m, \u001b[38;5;34m64\u001b[0m)      │               \u001b[38;5;34m0\u001b[0m │\n",
       "├──────────────────────────────────────┼─────────────────────────────┼─────────────────┤\n",
       "│ conv3d_2 (\u001b[38;5;33mConv3D\u001b[0m)                    │ (\u001b[38;5;45mNone\u001b[0m, \u001b[38;5;34m75\u001b[0m, \u001b[38;5;34m15\u001b[0m, \u001b[38;5;34m35\u001b[0m, \u001b[38;5;34m128\u001b[0m)     │         \u001b[38;5;34m221,312\u001b[0m │\n",
       "├──────────────────────────────────────┼─────────────────────────────┼─────────────────┤\n",
       "│ activation_2 (\u001b[38;5;33mActivation\u001b[0m)            │ (\u001b[38;5;45mNone\u001b[0m, \u001b[38;5;34m75\u001b[0m, \u001b[38;5;34m15\u001b[0m, \u001b[38;5;34m35\u001b[0m, \u001b[38;5;34m128\u001b[0m)     │               \u001b[38;5;34m0\u001b[0m │\n",
       "├──────────────────────────────────────┼─────────────────────────────┼─────────────────┤\n",
       "│ max_pooling3d_2 (\u001b[38;5;33mMaxPooling3D\u001b[0m)       │ (\u001b[38;5;45mNone\u001b[0m, \u001b[38;5;34m75\u001b[0m, \u001b[38;5;34m7\u001b[0m, \u001b[38;5;34m17\u001b[0m, \u001b[38;5;34m128\u001b[0m)      │               \u001b[38;5;34m0\u001b[0m │\n",
       "├──────────────────────────────────────┼─────────────────────────────┼─────────────────┤\n",
       "│ time_distributed (\u001b[38;5;33mTimeDistributed\u001b[0m)   │ (\u001b[38;5;45mNone\u001b[0m, \u001b[38;5;34m75\u001b[0m, \u001b[38;5;34m15232\u001b[0m)           │               \u001b[38;5;34m0\u001b[0m │\n",
       "├──────────────────────────────────────┼─────────────────────────────┼─────────────────┤\n",
       "│ bidirectional (\u001b[38;5;33mBidirectional\u001b[0m)        │ (\u001b[38;5;45mNone\u001b[0m, \u001b[38;5;34m75\u001b[0m, \u001b[38;5;34m256\u001b[0m)             │      \u001b[38;5;34m15,729,664\u001b[0m │\n",
       "├──────────────────────────────────────┼─────────────────────────────┼─────────────────┤\n",
       "│ dropout (\u001b[38;5;33mDropout\u001b[0m)                    │ (\u001b[38;5;45mNone\u001b[0m, \u001b[38;5;34m75\u001b[0m, \u001b[38;5;34m256\u001b[0m)             │               \u001b[38;5;34m0\u001b[0m │\n",
       "├──────────────────────────────────────┼─────────────────────────────┼─────────────────┤\n",
       "│ bidirectional_1 (\u001b[38;5;33mBidirectional\u001b[0m)      │ (\u001b[38;5;45mNone\u001b[0m, \u001b[38;5;34m75\u001b[0m, \u001b[38;5;34m256\u001b[0m)             │         \u001b[38;5;34m394,240\u001b[0m │\n",
       "├──────────────────────────────────────┼─────────────────────────────┼─────────────────┤\n",
       "│ dropout_1 (\u001b[38;5;33mDropout\u001b[0m)                  │ (\u001b[38;5;45mNone\u001b[0m, \u001b[38;5;34m75\u001b[0m, \u001b[38;5;34m256\u001b[0m)             │               \u001b[38;5;34m0\u001b[0m │\n",
       "├──────────────────────────────────────┼─────────────────────────────┼─────────────────┤\n",
       "│ dense (\u001b[38;5;33mDense\u001b[0m)                        │ (\u001b[38;5;45mNone\u001b[0m, \u001b[38;5;34m75\u001b[0m, \u001b[38;5;34m41\u001b[0m)              │          \u001b[38;5;34m10,537\u001b[0m │\n",
       "└──────────────────────────────────────┴─────────────────────────────┴─────────────────┘\n"
      ]
     },
     "metadata": {},
     "output_type": "display_data"
    },
    {
     "data": {
      "text/html": [
       "<pre style=\"white-space:pre;overflow-x:auto;line-height:normal;font-family:Menlo,'DejaVu Sans Mono',consolas,'Courier New',monospace\"><span style=\"font-weight: bold\"> Total params: </span><span style=\"color: #00af00; text-decoration-color: #00af00\">16,412,009</span> (62.61 MB)\n",
       "</pre>\n"
      ],
      "text/plain": [
       "\u001b[1m Total params: \u001b[0m\u001b[38;5;34m16,412,009\u001b[0m (62.61 MB)\n"
      ]
     },
     "metadata": {},
     "output_type": "display_data"
    },
    {
     "data": {
      "text/html": [
       "<pre style=\"white-space:pre;overflow-x:auto;line-height:normal;font-family:Menlo,'DejaVu Sans Mono',consolas,'Courier New',monospace\"><span style=\"font-weight: bold\"> Trainable params: </span><span style=\"color: #00af00; text-decoration-color: #00af00\">16,412,009</span> (62.61 MB)\n",
       "</pre>\n"
      ],
      "text/plain": [
       "\u001b[1m Trainable params: \u001b[0m\u001b[38;5;34m16,412,009\u001b[0m (62.61 MB)\n"
      ]
     },
     "metadata": {},
     "output_type": "display_data"
    },
    {
     "data": {
      "text/html": [
       "<pre style=\"white-space:pre;overflow-x:auto;line-height:normal;font-family:Menlo,'DejaVu Sans Mono',consolas,'Courier New',monospace\"><span style=\"font-weight: bold\"> Non-trainable params: </span><span style=\"color: #00af00; text-decoration-color: #00af00\">0</span> (0.00 B)\n",
       "</pre>\n"
      ],
      "text/plain": [
       "\u001b[1m Non-trainable params: \u001b[0m\u001b[38;5;34m0\u001b[0m (0.00 B)\n"
      ]
     },
     "metadata": {},
     "output_type": "display_data"
    }
   ],
   "source": [
    "lip_model.summary()"
   ]
  },
  {
   "cell_type": "code",
   "execution_count": 26,
   "metadata": {
    "execution": {
     "iopub.execute_input": "2025-02-02T20:39:24.708370Z",
     "iopub.status.busy": "2025-02-02T20:39:24.708006Z",
     "iopub.status.idle": "2025-02-02T20:39:26.666518Z",
     "shell.execute_reply": "2025-02-02T20:39:26.665732Z",
     "shell.execute_reply.started": "2025-02-02T20:39:24.708341Z"
    },
    "trusted": true
   },
   "outputs": [
    {
     "name": "stdout",
     "output_type": "stream",
     "text": [
      "\u001b[1m1/1\u001b[0m \u001b[32m━━━━━━━━━━━━━━━━━━━━\u001b[0m\u001b[37m\u001b[0m \u001b[1m2s\u001b[0m 2s/step\n"
     ]
    }
   ],
   "source": [
    "chek = lip_model.predict(val[0])"
   ]
  },
  {
   "cell_type": "code",
   "execution_count": 27,
   "metadata": {
    "execution": {
     "iopub.execute_input": "2025-02-02T20:39:26.667863Z",
     "iopub.status.busy": "2025-02-02T20:39:26.667506Z",
     "iopub.status.idle": "2025-02-02T20:39:26.771040Z",
     "shell.execute_reply": "2025-02-02T20:39:26.770325Z",
     "shell.execute_reply.started": "2025-02-02T20:39:26.667832Z"
    },
    "trusted": true
   },
   "outputs": [
    {
     "data": {
      "text/plain": [
       "<tf.Tensor: shape=(), dtype=string, numpy=b'ttttttttttttttttttttttttttttttttttttttttttttttttttttttttttttttttttaaaaaaaaa'>"
      ]
     },
     "execution_count": 27,
     "metadata": {},
     "output_type": "execute_result"
    }
   ],
   "source": [
    "tf.strings.reduce_join([num_to_char(x) for x in tf.argmax(chek[0],axis=1)])"
   ]
  },
  {
   "cell_type": "code",
   "execution_count": 28,
   "metadata": {
    "execution": {
     "iopub.execute_input": "2025-02-02T20:39:26.772075Z",
     "iopub.status.busy": "2025-02-02T20:39:26.771858Z",
     "iopub.status.idle": "2025-02-02T20:39:26.776565Z",
     "shell.execute_reply": "2025-02-02T20:39:26.775884Z",
     "shell.execute_reply.started": "2025-02-02T20:39:26.772056Z"
    },
    "trusted": true
   },
   "outputs": [
    {
     "name": "stdout",
     "output_type": "stream",
     "text": [
      "Input shape: (None, 75, 60, 140, 1)\n",
      "Output shape: (None, 75, 41)\n"
     ]
    }
   ],
   "source": [
    "print(\"Input shape:\", lip_model.input_shape)\n",
    "print(\"Output shape:\", lip_model.output_shape)"
   ]
  },
  {
   "cell_type": "code",
   "execution_count": 29,
   "metadata": {
    "execution": {
     "iopub.execute_input": "2025-02-02T20:39:26.777694Z",
     "iopub.status.busy": "2025-02-02T20:39:26.777374Z",
     "iopub.status.idle": "2025-02-02T20:39:26.791079Z",
     "shell.execute_reply": "2025-02-02T20:39:26.790458Z",
     "shell.execute_reply.started": "2025-02-02T20:39:26.777646Z"
    },
    "trusted": true
   },
   "outputs": [],
   "source": [
    "def lr_scheduler(epoch, lr):\n",
    "    if epoch < 25:\n",
    "        return lr  \n",
    "    else:\n",
    "        return float(lr * 0.95)        \n",
    "schedule_callback = LearningRateScheduler(lr_scheduler)"
   ]
  },
  {
   "cell_type": "code",
   "execution_count": 30,
   "metadata": {
    "execution": {
     "iopub.execute_input": "2025-02-02T20:39:26.792314Z",
     "iopub.status.busy": "2025-02-02T20:39:26.791985Z",
     "iopub.status.idle": "2025-02-02T20:39:26.802582Z",
     "shell.execute_reply": "2025-02-02T20:39:26.801902Z",
     "shell.execute_reply.started": "2025-02-02T20:39:26.792291Z"
    },
    "trusted": true
   },
   "outputs": [],
   "source": [
    "checkpoint_callback = ModelCheckpoint(\n",
    "    filepath='checkpoint.weights.h5',  \n",
    "    monitor='val_loss',                        \n",
    "    save_best_only=True,                       \n",
    "    save_weights_only=True,                     \n",
    "    verbose=1                                   \n",
    ")"
   ]
  },
  {
   "cell_type": "code",
   "execution_count": 31,
   "metadata": {
    "execution": {
     "iopub.execute_input": "2025-02-02T20:39:26.803571Z",
     "iopub.status.busy": "2025-02-02T20:39:26.803330Z",
     "iopub.status.idle": "2025-02-02T20:39:26.820525Z",
     "shell.execute_reply": "2025-02-02T20:39:26.819782Z",
     "shell.execute_reply.started": "2025-02-02T20:39:26.803554Z"
    },
    "trusted": true
   },
   "outputs": [],
   "source": [
    "def calculate_wer(y_true, y_pred, decoder):\n",
    "\n",
    "    wer_scores = []\n",
    "    for i in range(len(y_true)):\n",
    "        true_text = tf.strings.reduce_join(num_to_char(y_true[i])).numpy().decode('utf-8')\n",
    "        decoded = decoder(y_pred[i:i+1])[0]\n",
    "        wer_scores.append(levenshtein_distance(true_text.split(), decoded.split()) / len(true_text.split()))\n",
    "    return np.mean(wer_scores)\n",
    "\n",
    "def ctc_decoder():\n",
    "    def decoder(pred):\n",
    "        input_len = np.ones(pred.shape[0]) * pred.shape[1]\n",
    "        results = tf.keras.backend.ctc_decode(pred, \n",
    "                                            input_length=input_len,\n",
    "                                            greedy=True)[0][0]\n",
    "        texts = []\n",
    "        for res in results:\n",
    "            res = tf.strings.reduce_join(num_to_char(res)).numpy().decode('utf-8')\n",
    "            texts.append(res)\n",
    "        return texts\n",
    "    return decoder"
   ]
  },
  {
   "cell_type": "code",
   "execution_count": 32,
   "metadata": {
    "execution": {
     "iopub.execute_input": "2025-02-02T20:39:26.821638Z",
     "iopub.status.busy": "2025-02-02T20:39:26.821326Z",
     "iopub.status.idle": "2025-02-02T20:39:26.832473Z",
     "shell.execute_reply": "2025-02-02T20:39:26.831922Z",
     "shell.execute_reply.started": "2025-02-02T20:39:26.821610Z"
    },
    "trusted": true
   },
   "outputs": [],
   "source": [
    "class PrintLRCallback(tf.keras.callbacks.Callback):\n",
    "    def on_epoch_end(self, epoch, logs=None):\n",
    "        lr = tf.keras.backend.get_value(self.model.optimizer.learning_rate)\n",
    "        print(f\"Epoch {epoch + 1}: Learning Rate = {lr}\")"
   ]
  },
  {
   "cell_type": "code",
   "execution_count": 33,
   "metadata": {
    "execution": {
     "iopub.execute_input": "2025-02-02T20:39:26.833678Z",
     "iopub.status.busy": "2025-02-02T20:39:26.833390Z",
     "iopub.status.idle": "2025-02-02T20:39:27.082518Z",
     "shell.execute_reply": "2025-02-02T20:39:27.081709Z",
     "shell.execute_reply.started": "2025-02-02T20:39:26.833634Z"
    },
    "trusted": true
   },
   "outputs": [
    {
     "name": "stdout",
     "output_type": "stream",
     "text": [
      "Sun Feb  2 20:39:26 2025       \n",
      "+-----------------------------------------------------------------------------------------+\n",
      "| NVIDIA-SMI 560.35.03              Driver Version: 560.35.03      CUDA Version: 12.6     |\n",
      "|-----------------------------------------+------------------------+----------------------+\n",
      "| GPU  Name                 Persistence-M | Bus-Id          Disp.A | Volatile Uncorr. ECC |\n",
      "| Fan  Temp   Perf          Pwr:Usage/Cap |           Memory-Usage | GPU-Util  Compute M. |\n",
      "|                                         |                        |               MIG M. |\n",
      "|=========================================+========================+======================|\n",
      "|   0  Tesla T4                       Off |   00000000:00:04.0 Off |                    0 |\n",
      "| N/A   52C    P0             36W /   70W |    1283MiB /  15360MiB |      2%      Default |\n",
      "|                                         |                        |                  N/A |\n",
      "+-----------------------------------------+------------------------+----------------------+\n",
      "|   1  Tesla T4                       Off |   00000000:00:05.0 Off |                    0 |\n",
      "| N/A   55C    P0             29W /   70W |     103MiB /  15360MiB |      0%      Default |\n",
      "|                                         |                        |                  N/A |\n",
      "+-----------------------------------------+------------------------+----------------------+\n",
      "                                                                                         \n",
      "+-----------------------------------------------------------------------------------------+\n",
      "| Processes:                                                                              |\n",
      "|  GPU   GI   CI        PID   Type   Process name                              GPU Memory |\n",
      "|        ID   ID                                                               Usage      |\n",
      "|=========================================================================================|\n",
      "+-----------------------------------------------------------------------------------------+\n"
     ]
    }
   ],
   "source": [
    "!nvidia-smi"
   ]
  },
  {
   "cell_type": "code",
   "execution_count": 34,
   "metadata": {
    "execution": {
     "iopub.execute_input": "2025-02-02T20:39:27.083796Z",
     "iopub.status.busy": "2025-02-02T20:39:27.083522Z",
     "iopub.status.idle": "2025-02-02T20:39:27.348129Z",
     "shell.execute_reply": "2025-02-02T20:39:27.347212Z",
     "shell.execute_reply.started": "2025-02-02T20:39:27.083774Z"
    },
    "trusted": true
   },
   "outputs": [
    {
     "name": "stdout",
     "output_type": "stream",
     "text": [
      "Input shape: (2, 75, 60, 140, 1)\n",
      "Output shape: (2, 40)\n"
     ]
    }
   ],
   "source": [
    "for x, y in train_data.take(1):\n",
    "    print(\"Input shape:\", x.shape)\n",
    "    print(\"Output shape:\", y.shape)"
   ]
  },
  {
   "cell_type": "markdown",
   "metadata": {},
   "source": [
    "# 7. train the model"
   ]
  },
  {
   "cell_type": "code",
   "execution_count": 35,
   "metadata": {
    "execution": {
     "iopub.execute_input": "2025-02-02T20:39:27.349250Z",
     "iopub.status.busy": "2025-02-02T20:39:27.349025Z",
     "iopub.status.idle": "2025-02-02T20:39:27.353236Z",
     "shell.execute_reply": "2025-02-02T20:39:27.352322Z",
     "shell.execute_reply.started": "2025-02-02T20:39:27.349231Z"
    },
    "trusted": true
   },
   "outputs": [],
   "source": [
    "early_stopping = EarlyStopping(\n",
    "    monitor='val_loss',  \n",
    "    patience=10,         \n",
    "    restore_best_weights=True,  \n",
    "    verbose=1\n",
    ")"
   ]
  },
  {
   "cell_type": "code",
   "execution_count": 36,
   "metadata": {
    "execution": {
     "iopub.execute_input": "2025-02-02T20:39:27.354444Z",
     "iopub.status.busy": "2025-02-02T20:39:27.354130Z",
     "iopub.status.idle": "2025-02-02T23:26:17.278600Z",
     "shell.execute_reply": "2025-02-02T23:26:17.277716Z",
     "shell.execute_reply.started": "2025-02-02T20:39:27.354398Z"
    },
    "trusted": true
   },
   "outputs": [
    {
     "name": "stdout",
     "output_type": "stream",
     "text": [
      "Epoch 1/100\n",
      "\u001b[1m350/350\u001b[0m \u001b[32m━━━━━━━━━━━━━━━━━━━━\u001b[0m\u001b[37m\u001b[0m \u001b[1m0s\u001b[0m 187ms/step - loss: 100.6755\n",
      "Epoch 1: val_loss improved from inf to 66.91669, saving model to checkpoint.weights.h5\n",
      "Epoch 1: Learning Rate = 9.999999747378752e-05\n",
      "\u001b[1m350/350\u001b[0m \u001b[32m━━━━━━━━━━━━━━━━━━━━\u001b[0m\u001b[37m\u001b[0m \u001b[1m111s\u001b[0m 292ms/step - loss: 100.6254 - val_loss: 66.9167 - learning_rate: 1.0000e-04\n",
      "Epoch 2/100\n",
      "\u001b[1m350/350\u001b[0m \u001b[32m━━━━━━━━━━━━━━━━━━━━\u001b[0m\u001b[37m\u001b[0m \u001b[1m0s\u001b[0m 187ms/step - loss: 69.4772\n",
      "Epoch 2: val_loss improved from 66.91669 to 63.58356, saving model to checkpoint.weights.h5\n",
      "Epoch 2: Learning Rate = 9.999999747378752e-05\n",
      "\u001b[1m350/350\u001b[0m \u001b[32m━━━━━━━━━━━━━━━━━━━━\u001b[0m\u001b[37m\u001b[0m \u001b[1m101s\u001b[0m 289ms/step - loss: 69.4748 - val_loss: 63.5836 - learning_rate: 1.0000e-04\n",
      "Epoch 3/100\n",
      "\u001b[1m350/350\u001b[0m \u001b[32m━━━━━━━━━━━━━━━━━━━━\u001b[0m\u001b[37m\u001b[0m \u001b[1m0s\u001b[0m 188ms/step - loss: 66.1835\n",
      "Epoch 3: val_loss improved from 63.58356 to 62.23447, saving model to checkpoint.weights.h5\n",
      "Epoch 3: Learning Rate = 9.999999747378752e-05\n",
      "\u001b[1m350/350\u001b[0m \u001b[32m━━━━━━━━━━━━━━━━━━━━\u001b[0m\u001b[37m\u001b[0m \u001b[1m101s\u001b[0m 290ms/step - loss: 66.1831 - val_loss: 62.2345 - learning_rate: 1.0000e-04\n",
      "Epoch 4/100\n",
      "\u001b[1m350/350\u001b[0m \u001b[32m━━━━━━━━━━━━━━━━━━━━\u001b[0m\u001b[37m\u001b[0m \u001b[1m0s\u001b[0m 188ms/step - loss: 64.1789\n",
      "Epoch 4: val_loss improved from 62.23447 to 60.19411, saving model to checkpoint.weights.h5\n",
      "Epoch 4: Learning Rate = 9.999999747378752e-05\n",
      "\u001b[1m350/350\u001b[0m \u001b[32m━━━━━━━━━━━━━━━━━━━━\u001b[0m\u001b[37m\u001b[0m \u001b[1m102s\u001b[0m 292ms/step - loss: 64.1785 - val_loss: 60.1941 - learning_rate: 1.0000e-04\n",
      "Epoch 5/100\n",
      "\u001b[1m350/350\u001b[0m \u001b[32m━━━━━━━━━━━━━━━━━━━━\u001b[0m\u001b[37m\u001b[0m \u001b[1m0s\u001b[0m 189ms/step - loss: 62.4286\n",
      "Epoch 5: val_loss improved from 60.19411 to 58.99088, saving model to checkpoint.weights.h5\n",
      "Epoch 5: Learning Rate = 9.999999747378752e-05\n",
      "\u001b[1m350/350\u001b[0m \u001b[32m━━━━━━━━━━━━━━━━━━━━\u001b[0m\u001b[37m\u001b[0m \u001b[1m101s\u001b[0m 290ms/step - loss: 62.4280 - val_loss: 58.9909 - learning_rate: 1.0000e-04\n",
      "Epoch 6/100\n",
      "\u001b[1m350/350\u001b[0m \u001b[32m━━━━━━━━━━━━━━━━━━━━\u001b[0m\u001b[37m\u001b[0m \u001b[1m0s\u001b[0m 183ms/step - loss: 61.1195\n",
      "Epoch 6: val_loss improved from 58.99088 to 57.53051, saving model to checkpoint.weights.h5\n",
      "Epoch 6: Learning Rate = 9.999999747378752e-05\n",
      "\u001b[1m350/350\u001b[0m \u001b[32m━━━━━━━━━━━━━━━━━━━━\u001b[0m\u001b[37m\u001b[0m \u001b[1m99s\u001b[0m 283ms/step - loss: 61.1189 - val_loss: 57.5305 - learning_rate: 1.0000e-04\n",
      "Epoch 7/100\n",
      "\u001b[1m350/350\u001b[0m \u001b[32m━━━━━━━━━━━━━━━━━━━━\u001b[0m\u001b[37m\u001b[0m \u001b[1m0s\u001b[0m 185ms/step - loss: 59.5656\n",
      "Epoch 7: val_loss improved from 57.53051 to 49.08504, saving model to checkpoint.weights.h5\n",
      "Epoch 7: Learning Rate = 9.999999747378752e-05\n",
      "\u001b[1m350/350\u001b[0m \u001b[32m━━━━━━━━━━━━━━━━━━━━\u001b[0m\u001b[37m\u001b[0m \u001b[1m100s\u001b[0m 287ms/step - loss: 59.5619 - val_loss: 49.0850 - learning_rate: 1.0000e-04\n",
      "Epoch 8/100\n",
      "\u001b[1m350/350\u001b[0m \u001b[32m━━━━━━━━━━━━━━━━━━━━\u001b[0m\u001b[37m\u001b[0m \u001b[1m0s\u001b[0m 185ms/step - loss: 51.0391\n",
      "Epoch 8: val_loss improved from 49.08504 to 48.03744, saving model to checkpoint.weights.h5\n",
      "Epoch 8: Learning Rate = 9.999999747378752e-05\n",
      "\u001b[1m350/350\u001b[0m \u001b[32m━━━━━━━━━━━━━━━━━━━━\u001b[0m\u001b[37m\u001b[0m \u001b[1m101s\u001b[0m 288ms/step - loss: 51.0388 - val_loss: 48.0374 - learning_rate: 1.0000e-04\n",
      "Epoch 9/100\n",
      "\u001b[1m350/350\u001b[0m \u001b[32m━━━━━━━━━━━━━━━━━━━━\u001b[0m\u001b[37m\u001b[0m \u001b[1m0s\u001b[0m 188ms/step - loss: 49.8899\n",
      "Epoch 9: val_loss improved from 48.03744 to 47.16467, saving model to checkpoint.weights.h5\n",
      "Epoch 9: Learning Rate = 9.999999747378752e-05\n",
      "\u001b[1m350/350\u001b[0m \u001b[32m━━━━━━━━━━━━━━━━━━━━\u001b[0m\u001b[37m\u001b[0m \u001b[1m102s\u001b[0m 290ms/step - loss: 49.8899 - val_loss: 47.1647 - learning_rate: 1.0000e-04\n",
      "Epoch 10/100\n",
      "\u001b[1m350/350\u001b[0m \u001b[32m━━━━━━━━━━━━━━━━━━━━\u001b[0m\u001b[37m\u001b[0m \u001b[1m0s\u001b[0m 186ms/step - loss: 49.0824\n",
      "Epoch 10: val_loss improved from 47.16467 to 46.59620, saving model to checkpoint.weights.h5\n",
      "Epoch 10: Learning Rate = 9.999999747378752e-05\n",
      "\u001b[1m350/350\u001b[0m \u001b[32m━━━━━━━━━━━━━━━━━━━━\u001b[0m\u001b[37m\u001b[0m \u001b[1m101s\u001b[0m 289ms/step - loss: 49.0826 - val_loss: 46.5962 - learning_rate: 1.0000e-04\n",
      "Epoch 11/100\n",
      "\u001b[1m350/350\u001b[0m \u001b[32m━━━━━━━━━━━━━━━━━━━━\u001b[0m\u001b[37m\u001b[0m \u001b[1m0s\u001b[0m 186ms/step - loss: 48.6114\n",
      "Epoch 11: val_loss improved from 46.59620 to 46.05626, saving model to checkpoint.weights.h5\n",
      "Epoch 11: Learning Rate = 9.999999747378752e-05\n",
      "\u001b[1m350/350\u001b[0m \u001b[32m━━━━━━━━━━━━━━━━━━━━\u001b[0m\u001b[37m\u001b[0m \u001b[1m101s\u001b[0m 289ms/step - loss: 48.6114 - val_loss: 46.0563 - learning_rate: 1.0000e-04\n",
      "Epoch 12/100\n",
      "\u001b[1m350/350\u001b[0m \u001b[32m━━━━━━━━━━━━━━━━━━━━\u001b[0m\u001b[37m\u001b[0m \u001b[1m0s\u001b[0m 187ms/step - loss: 47.9690\n",
      "Epoch 12: val_loss improved from 46.05626 to 45.40001, saving model to checkpoint.weights.h5\n",
      "Epoch 12: Learning Rate = 9.999999747378752e-05\n",
      "\u001b[1m350/350\u001b[0m \u001b[32m━━━━━━━━━━━━━━━━━━━━\u001b[0m\u001b[37m\u001b[0m \u001b[1m101s\u001b[0m 289ms/step - loss: 47.9692 - val_loss: 45.4000 - learning_rate: 1.0000e-04\n",
      "Epoch 13/100\n",
      "\u001b[1m350/350\u001b[0m \u001b[32m━━━━━━━━━━━━━━━━━━━━\u001b[0m\u001b[37m\u001b[0m \u001b[1m0s\u001b[0m 183ms/step - loss: 47.4295\n",
      "Epoch 13: val_loss improved from 45.40001 to 44.74974, saving model to checkpoint.weights.h5\n",
      "Epoch 13: Learning Rate = 9.999999747378752e-05\n",
      "\u001b[1m350/350\u001b[0m \u001b[32m━━━━━━━━━━━━━━━━━━━━\u001b[0m\u001b[37m\u001b[0m \u001b[1m106s\u001b[0m 302ms/step - loss: 47.4297 - val_loss: 44.7497 - learning_rate: 1.0000e-04\n",
      "Epoch 14/100\n",
      "\u001b[1m350/350\u001b[0m \u001b[32m━━━━━━━━━━━━━━━━━━━━\u001b[0m\u001b[37m\u001b[0m \u001b[1m0s\u001b[0m 187ms/step - loss: 47.0698\n",
      "Epoch 14: val_loss improved from 44.74974 to 43.99239, saving model to checkpoint.weights.h5\n",
      "Epoch 14: Learning Rate = 9.999999747378752e-05\n",
      "\u001b[1m350/350\u001b[0m \u001b[32m━━━━━━━━━━━━━━━━━━━━\u001b[0m\u001b[37m\u001b[0m \u001b[1m100s\u001b[0m 286ms/step - loss: 47.0704 - val_loss: 43.9924 - learning_rate: 1.0000e-04\n",
      "Epoch 15/100\n",
      "\u001b[1m350/350\u001b[0m \u001b[32m━━━━━━━━━━━━━━━━━━━━\u001b[0m\u001b[37m\u001b[0m \u001b[1m0s\u001b[0m 181ms/step - loss: 46.5208\n",
      "Epoch 15: val_loss improved from 43.99239 to 43.85536, saving model to checkpoint.weights.h5\n",
      "Epoch 15: Learning Rate = 9.999999747378752e-05\n",
      "\u001b[1m350/350\u001b[0m \u001b[32m━━━━━━━━━━━━━━━━━━━━\u001b[0m\u001b[37m\u001b[0m \u001b[1m99s\u001b[0m 282ms/step - loss: 46.5212 - val_loss: 43.8554 - learning_rate: 1.0000e-04\n",
      "Epoch 16/100\n",
      "\u001b[1m350/350\u001b[0m \u001b[32m━━━━━━━━━━━━━━━━━━━━\u001b[0m\u001b[37m\u001b[0m \u001b[1m0s\u001b[0m 185ms/step - loss: 46.2755\n",
      "Epoch 16: val_loss improved from 43.85536 to 43.20105, saving model to checkpoint.weights.h5\n",
      "Epoch 16: Learning Rate = 9.999999747378752e-05\n",
      "\u001b[1m350/350\u001b[0m \u001b[32m━━━━━━━━━━━━━━━━━━━━\u001b[0m\u001b[37m\u001b[0m \u001b[1m99s\u001b[0m 283ms/step - loss: 46.2761 - val_loss: 43.2010 - learning_rate: 1.0000e-04\n",
      "Epoch 17/100\n",
      "\u001b[1m350/350\u001b[0m \u001b[32m━━━━━━━━━━━━━━━━━━━━\u001b[0m\u001b[37m\u001b[0m \u001b[1m0s\u001b[0m 182ms/step - loss: 45.9662\n",
      "Epoch 17: val_loss improved from 43.20105 to 42.76721, saving model to checkpoint.weights.h5\n",
      "Epoch 17: Learning Rate = 9.999999747378752e-05\n",
      "\u001b[1m350/350\u001b[0m \u001b[32m━━━━━━━━━━━━━━━━━━━━\u001b[0m\u001b[37m\u001b[0m \u001b[1m100s\u001b[0m 285ms/step - loss: 45.9662 - val_loss: 42.7672 - learning_rate: 1.0000e-04\n",
      "Epoch 18/100\n",
      "\u001b[1m350/350\u001b[0m \u001b[32m━━━━━━━━━━━━━━━━━━━━\u001b[0m\u001b[37m\u001b[0m \u001b[1m0s\u001b[0m 183ms/step - loss: 45.6455\n",
      "Epoch 18: val_loss improved from 42.76721 to 42.57657, saving model to checkpoint.weights.h5\n",
      "Epoch 18: Learning Rate = 9.999999747378752e-05\n",
      "\u001b[1m350/350\u001b[0m \u001b[32m━━━━━━━━━━━━━━━━━━━━\u001b[0m\u001b[37m\u001b[0m \u001b[1m99s\u001b[0m 282ms/step - loss: 45.6454 - val_loss: 42.5766 - learning_rate: 1.0000e-04\n",
      "Epoch 19/100\n",
      "\u001b[1m350/350\u001b[0m \u001b[32m━━━━━━━━━━━━━━━━━━━━\u001b[0m\u001b[37m\u001b[0m \u001b[1m0s\u001b[0m 178ms/step - loss: 45.0780\n",
      "Epoch 19: val_loss improved from 42.57657 to 42.00125, saving model to checkpoint.weights.h5\n",
      "Epoch 19: Learning Rate = 9.999999747378752e-05\n",
      "\u001b[1m350/350\u001b[0m \u001b[32m━━━━━━━━━━━━━━━━━━━━\u001b[0m\u001b[37m\u001b[0m \u001b[1m98s\u001b[0m 281ms/step - loss: 45.0783 - val_loss: 42.0013 - learning_rate: 1.0000e-04\n",
      "Epoch 20/100\n",
      "\u001b[1m350/350\u001b[0m \u001b[32m━━━━━━━━━━━━━━━━━━━━\u001b[0m\u001b[37m\u001b[0m \u001b[1m0s\u001b[0m 182ms/step - loss: 44.6315\n",
      "Epoch 20: val_loss improved from 42.00125 to 41.69599, saving model to checkpoint.weights.h5\n",
      "Epoch 20: Learning Rate = 9.999999747378752e-05\n",
      "\u001b[1m350/350\u001b[0m \u001b[32m━━━━━━━━━━━━━━━━━━━━\u001b[0m\u001b[37m\u001b[0m \u001b[1m99s\u001b[0m 283ms/step - loss: 44.6321 - val_loss: 41.6960 - learning_rate: 1.0000e-04\n",
      "Epoch 21/100\n",
      "\u001b[1m350/350\u001b[0m \u001b[32m━━━━━━━━━━━━━━━━━━━━\u001b[0m\u001b[37m\u001b[0m \u001b[1m0s\u001b[0m 179ms/step - loss: 44.4216\n",
      "Epoch 21: val_loss improved from 41.69599 to 40.84010, saving model to checkpoint.weights.h5\n",
      "Epoch 21: Learning Rate = 9.999999747378752e-05\n",
      "\u001b[1m350/350\u001b[0m \u001b[32m━━━━━━━━━━━━━━━━━━━━\u001b[0m\u001b[37m\u001b[0m \u001b[1m98s\u001b[0m 279ms/step - loss: 44.4218 - val_loss: 40.8401 - learning_rate: 1.0000e-04\n",
      "Epoch 22/100\n",
      "\u001b[1m350/350\u001b[0m \u001b[32m━━━━━━━━━━━━━━━━━━━━\u001b[0m\u001b[37m\u001b[0m \u001b[1m0s\u001b[0m 182ms/step - loss: 43.8651\n",
      "Epoch 22: val_loss improved from 40.84010 to 40.38187, saving model to checkpoint.weights.h5\n",
      "Epoch 22: Learning Rate = 9.999999747378752e-05\n",
      "\u001b[1m350/350\u001b[0m \u001b[32m━━━━━━━━━━━━━━━━━━━━\u001b[0m\u001b[37m\u001b[0m \u001b[1m100s\u001b[0m 285ms/step - loss: 43.8656 - val_loss: 40.3819 - learning_rate: 1.0000e-04\n",
      "Epoch 23/100\n",
      "\u001b[1m350/350\u001b[0m \u001b[32m━━━━━━━━━━━━━━━━━━━━\u001b[0m\u001b[37m\u001b[0m \u001b[1m0s\u001b[0m 183ms/step - loss: 43.3584\n",
      "Epoch 23: val_loss improved from 40.38187 to 39.83825, saving model to checkpoint.weights.h5\n",
      "Epoch 23: Learning Rate = 9.999999747378752e-05\n",
      "\u001b[1m350/350\u001b[0m \u001b[32m━━━━━━━━━━━━━━━━━━━━\u001b[0m\u001b[37m\u001b[0m \u001b[1m100s\u001b[0m 287ms/step - loss: 43.3592 - val_loss: 39.8382 - learning_rate: 1.0000e-04\n",
      "Epoch 24/100\n",
      "\u001b[1m350/350\u001b[0m \u001b[32m━━━━━━━━━━━━━━━━━━━━\u001b[0m\u001b[37m\u001b[0m \u001b[1m0s\u001b[0m 183ms/step - loss: 42.9515\n",
      "Epoch 24: val_loss did not improve from 39.83825\n",
      "Epoch 24: Learning Rate = 9.999999747378752e-05\n",
      "\u001b[1m350/350\u001b[0m \u001b[32m━━━━━━━━━━━━━━━━━━━━\u001b[0m\u001b[37m\u001b[0m \u001b[1m99s\u001b[0m 283ms/step - loss: 42.9521 - val_loss: 40.2785 - learning_rate: 1.0000e-04\n",
      "Epoch 25/100\n",
      "\u001b[1m350/350\u001b[0m \u001b[32m━━━━━━━━━━━━━━━━━━━━\u001b[0m\u001b[37m\u001b[0m \u001b[1m0s\u001b[0m 181ms/step - loss: 42.5757\n",
      "Epoch 25: val_loss improved from 39.83825 to 39.70073, saving model to checkpoint.weights.h5\n",
      "Epoch 25: Learning Rate = 9.999999747378752e-05\n",
      "\u001b[1m350/350\u001b[0m \u001b[32m━━━━━━━━━━━━━━━━━━━━\u001b[0m\u001b[37m\u001b[0m \u001b[1m99s\u001b[0m 283ms/step - loss: 42.5761 - val_loss: 39.7007 - learning_rate: 1.0000e-04\n",
      "Epoch 26/100\n",
      "\u001b[1m350/350\u001b[0m \u001b[32m━━━━━━━━━━━━━━━━━━━━\u001b[0m\u001b[37m\u001b[0m \u001b[1m0s\u001b[0m 188ms/step - loss: 42.1493\n",
      "Epoch 26: val_loss improved from 39.70073 to 38.84562, saving model to checkpoint.weights.h5\n",
      "Epoch 26: Learning Rate = 9.499999578110874e-05\n",
      "\u001b[1m350/350\u001b[0m \u001b[32m━━━━━━━━━━━━━━━━━━━━\u001b[0m\u001b[37m\u001b[0m \u001b[1m102s\u001b[0m 293ms/step - loss: 42.1498 - val_loss: 38.8456 - learning_rate: 9.5000e-05\n",
      "Epoch 27/100\n",
      "\u001b[1m350/350\u001b[0m \u001b[32m━━━━━━━━━━━━━━━━━━━━\u001b[0m\u001b[37m\u001b[0m \u001b[1m0s\u001b[0m 183ms/step - loss: 41.3859\n",
      "Epoch 27: val_loss improved from 38.84562 to 37.95524, saving model to checkpoint.weights.h5\n",
      "Epoch 27: Learning Rate = 9.02499959920533e-05\n",
      "\u001b[1m350/350\u001b[0m \u001b[32m━━━━━━━━━━━━━━━━━━━━\u001b[0m\u001b[37m\u001b[0m \u001b[1m100s\u001b[0m 285ms/step - loss: 41.3867 - val_loss: 37.9552 - learning_rate: 9.0250e-05\n",
      "Epoch 28/100\n",
      "\u001b[1m350/350\u001b[0m \u001b[32m━━━━━━━━━━━━━━━━━━━━\u001b[0m\u001b[37m\u001b[0m \u001b[1m0s\u001b[0m 184ms/step - loss: 40.8069\n",
      "Epoch 28: val_loss improved from 37.95524 to 37.74694, saving model to checkpoint.weights.h5\n",
      "Epoch 28: Learning Rate = 8.573749801144004e-05\n",
      "\u001b[1m350/350\u001b[0m \u001b[32m━━━━━━━━━━━━━━━━━━━━\u001b[0m\u001b[37m\u001b[0m \u001b[1m99s\u001b[0m 283ms/step - loss: 40.8078 - val_loss: 37.7469 - learning_rate: 8.5737e-05\n",
      "Epoch 29/100\n",
      "\u001b[1m350/350\u001b[0m \u001b[32m━━━━━━━━━━━━━━━━━━━━\u001b[0m\u001b[37m\u001b[0m \u001b[1m0s\u001b[0m 186ms/step - loss: 40.2435\n",
      "Epoch 29: val_loss improved from 37.74694 to 36.81643, saving model to checkpoint.weights.h5\n",
      "Epoch 29: Learning Rate = 8.145062020048499e-05\n",
      "\u001b[1m350/350\u001b[0m \u001b[32m━━━━━━━━━━━━━━━━━━━━\u001b[0m\u001b[37m\u001b[0m \u001b[1m101s\u001b[0m 288ms/step - loss: 40.2439 - val_loss: 36.8164 - learning_rate: 8.1451e-05\n",
      "Epoch 30/100\n",
      "\u001b[1m350/350\u001b[0m \u001b[32m━━━━━━━━━━━━━━━━━━━━\u001b[0m\u001b[37m\u001b[0m \u001b[1m0s\u001b[0m 186ms/step - loss: 39.6245\n",
      "Epoch 30: val_loss improved from 36.81643 to 36.71432, saving model to checkpoint.weights.h5\n",
      "Epoch 30: Learning Rate = 7.737809210084379e-05\n",
      "\u001b[1m350/350\u001b[0m \u001b[32m━━━━━━━━━━━━━━━━━━━━\u001b[0m\u001b[37m\u001b[0m \u001b[1m101s\u001b[0m 288ms/step - loss: 39.6250 - val_loss: 36.7143 - learning_rate: 7.7378e-05\n",
      "Epoch 31/100\n",
      "\u001b[1m350/350\u001b[0m \u001b[32m━━━━━━━━━━━━━━━━━━━━\u001b[0m\u001b[37m\u001b[0m \u001b[1m0s\u001b[0m 181ms/step - loss: 39.1443\n",
      "Epoch 31: val_loss did not improve from 36.71432\n",
      "Epoch 31: Learning Rate = 7.350918895099312e-05\n",
      "\u001b[1m350/350\u001b[0m \u001b[32m━━━━━━━━━━━━━━━━━━━━\u001b[0m\u001b[37m\u001b[0m \u001b[1m98s\u001b[0m 281ms/step - loss: 39.1447 - val_loss: 36.7322 - learning_rate: 7.3509e-05\n",
      "Epoch 32/100\n",
      "\u001b[1m350/350\u001b[0m \u001b[32m━━━━━━━━━━━━━━━━━━━━\u001b[0m\u001b[37m\u001b[0m \u001b[1m0s\u001b[0m 184ms/step - loss: 38.5680\n",
      "Epoch 32: val_loss improved from 36.71432 to 34.70075, saving model to checkpoint.weights.h5\n",
      "Epoch 32: Learning Rate = 6.983373168623075e-05\n",
      "\u001b[1m350/350\u001b[0m \u001b[32m━━━━━━━━━━━━━━━━━━━━\u001b[0m\u001b[37m\u001b[0m \u001b[1m101s\u001b[0m 288ms/step - loss: 38.5684 - val_loss: 34.7007 - learning_rate: 6.9834e-05\n",
      "Epoch 33/100\n",
      "\u001b[1m350/350\u001b[0m \u001b[32m━━━━━━━━━━━━━━━━━━━━\u001b[0m\u001b[37m\u001b[0m \u001b[1m0s\u001b[0m 182ms/step - loss: 38.0389\n",
      "Epoch 33: val_loss improved from 34.70075 to 34.51329, saving model to checkpoint.weights.h5\n",
      "Epoch 33: Learning Rate = 6.634204328292981e-05\n",
      "\u001b[1m350/350\u001b[0m \u001b[32m━━━━━━━━━━━━━━━━━━━━\u001b[0m\u001b[37m\u001b[0m \u001b[1m100s\u001b[0m 286ms/step - loss: 38.0390 - val_loss: 34.5133 - learning_rate: 6.6342e-05\n",
      "Epoch 34/100\n",
      "\u001b[1m350/350\u001b[0m \u001b[32m━━━━━━━━━━━━━━━━━━━━\u001b[0m\u001b[37m\u001b[0m \u001b[1m0s\u001b[0m 186ms/step - loss: 37.3859\n",
      "Epoch 34: val_loss improved from 34.51329 to 33.92671, saving model to checkpoint.weights.h5\n",
      "Epoch 34: Learning Rate = 6.30249414825812e-05\n",
      "\u001b[1m350/350\u001b[0m \u001b[32m━━━━━━━━━━━━━━━━━━━━\u001b[0m\u001b[37m\u001b[0m \u001b[1m101s\u001b[0m 289ms/step - loss: 37.3863 - val_loss: 33.9267 - learning_rate: 6.3025e-05\n",
      "Epoch 35/100\n",
      "\u001b[1m350/350\u001b[0m \u001b[32m━━━━━━━━━━━━━━━━━━━━\u001b[0m\u001b[37m\u001b[0m \u001b[1m0s\u001b[0m 183ms/step - loss: 36.7680\n",
      "Epoch 35: val_loss improved from 33.92671 to 33.78058, saving model to checkpoint.weights.h5\n",
      "Epoch 35: Learning Rate = 5.98736951360479e-05\n",
      "\u001b[1m350/350\u001b[0m \u001b[32m━━━━━━━━━━━━━━━━━━━━\u001b[0m\u001b[37m\u001b[0m \u001b[1m102s\u001b[0m 290ms/step - loss: 36.7684 - val_loss: 33.7806 - learning_rate: 5.9874e-05\n",
      "Epoch 36/100\n",
      "\u001b[1m350/350\u001b[0m \u001b[32m━━━━━━━━━━━━━━━━━━━━\u001b[0m\u001b[37m\u001b[0m \u001b[1m0s\u001b[0m 185ms/step - loss: 36.8547\n",
      "Epoch 36: val_loss improved from 33.78058 to 33.63228, saving model to checkpoint.weights.h5\n",
      "Epoch 36: Learning Rate = 5.688000965164974e-05\n",
      "\u001b[1m350/350\u001b[0m \u001b[32m━━━━━━━━━━━━━━━━━━━━\u001b[0m\u001b[37m\u001b[0m \u001b[1m100s\u001b[0m 287ms/step - loss: 36.8566 - val_loss: 33.6323 - learning_rate: 5.6880e-05\n",
      "Epoch 37/100\n",
      "\u001b[1m350/350\u001b[0m \u001b[32m━━━━━━━━━━━━━━━━━━━━\u001b[0m\u001b[37m\u001b[0m \u001b[1m0s\u001b[0m 184ms/step - loss: 36.4914\n",
      "Epoch 37: val_loss improved from 33.63228 to 32.75042, saving model to checkpoint.weights.h5\n",
      "Epoch 37: Learning Rate = 5.4036008805269375e-05\n",
      "\u001b[1m350/350\u001b[0m \u001b[32m━━━━━━━━━━━━━━━━━━━━\u001b[0m\u001b[37m\u001b[0m \u001b[1m101s\u001b[0m 289ms/step - loss: 36.4917 - val_loss: 32.7504 - learning_rate: 5.4036e-05\n",
      "Epoch 38/100\n",
      "\u001b[1m350/350\u001b[0m \u001b[32m━━━━━━━━━━━━━━━━━━━━\u001b[0m\u001b[37m\u001b[0m \u001b[1m0s\u001b[0m 187ms/step - loss: 35.6707\n",
      "Epoch 38: val_loss improved from 32.75042 to 31.86388, saving model to checkpoint.weights.h5\n",
      "Epoch 38: Learning Rate = 5.133420927450061e-05\n",
      "\u001b[1m350/350\u001b[0m \u001b[32m━━━━━━━━━━━━━━━━━━━━\u001b[0m\u001b[37m\u001b[0m \u001b[1m100s\u001b[0m 285ms/step - loss: 35.6713 - val_loss: 31.8639 - learning_rate: 5.1334e-05\n",
      "Epoch 39/100\n",
      "\u001b[1m350/350\u001b[0m \u001b[32m━━━━━━━━━━━━━━━━━━━━\u001b[0m\u001b[37m\u001b[0m \u001b[1m0s\u001b[0m 180ms/step - loss: 34.8870\n",
      "Epoch 39: val_loss improved from 31.86388 to 31.71833, saving model to checkpoint.weights.h5\n",
      "Epoch 39: Learning Rate = 4.876749881077558e-05\n",
      "\u001b[1m350/350\u001b[0m \u001b[32m━━━━━━━━━━━━━━━━━━━━\u001b[0m\u001b[37m\u001b[0m \u001b[1m98s\u001b[0m 281ms/step - loss: 34.8878 - val_loss: 31.7183 - learning_rate: 4.8767e-05\n",
      "Epoch 40/100\n",
      "\u001b[1m350/350\u001b[0m \u001b[32m━━━━━━━━━━━━━━━━━━━━\u001b[0m\u001b[37m\u001b[0m \u001b[1m0s\u001b[0m 185ms/step - loss: 34.4791\n",
      "Epoch 40: val_loss improved from 31.71833 to 31.29157, saving model to checkpoint.weights.h5\n",
      "Epoch 40: Learning Rate = 4.632912532542832e-05\n",
      "\u001b[1m350/350\u001b[0m \u001b[32m━━━━━━━━━━━━━━━━━━━━\u001b[0m\u001b[37m\u001b[0m \u001b[1m100s\u001b[0m 285ms/step - loss: 34.4799 - val_loss: 31.2916 - learning_rate: 4.6329e-05\n",
      "Epoch 41/100\n",
      "\u001b[1m350/350\u001b[0m \u001b[32m━━━━━━━━━━━━━━━━━━━━\u001b[0m\u001b[37m\u001b[0m \u001b[1m0s\u001b[0m 184ms/step - loss: 34.2858\n",
      "Epoch 41: val_loss improved from 31.29157 to 30.60366, saving model to checkpoint.weights.h5\n",
      "Epoch 41: Learning Rate = 4.401266778586432e-05\n",
      "\u001b[1m350/350\u001b[0m \u001b[32m━━━━━━━━━━━━━━━━━━━━\u001b[0m\u001b[37m\u001b[0m \u001b[1m100s\u001b[0m 286ms/step - loss: 34.2860 - val_loss: 30.6037 - learning_rate: 4.4013e-05\n",
      "Epoch 42/100\n",
      "\u001b[1m350/350\u001b[0m \u001b[32m━━━━━━━━━━━━━━━━━━━━\u001b[0m\u001b[37m\u001b[0m \u001b[1m0s\u001b[0m 187ms/step - loss: 34.0913\n",
      "Epoch 42: val_loss did not improve from 30.60366\n",
      "Epoch 42: Learning Rate = 4.1812032577581704e-05\n",
      "\u001b[1m350/350\u001b[0m \u001b[32m━━━━━━━━━━━━━━━━━━━━\u001b[0m\u001b[37m\u001b[0m \u001b[1m102s\u001b[0m 291ms/step - loss: 34.0907 - val_loss: 30.6205 - learning_rate: 4.1812e-05\n",
      "Epoch 43/100\n",
      "\u001b[1m350/350\u001b[0m \u001b[32m━━━━━━━━━━━━━━━━━━━━\u001b[0m\u001b[37m\u001b[0m \u001b[1m0s\u001b[0m 193ms/step - loss: 33.3368\n",
      "Epoch 43: val_loss improved from 30.60366 to 29.13127, saving model to checkpoint.weights.h5\n",
      "Epoch 43: Learning Rate = 3.972143167629838e-05\n",
      "\u001b[1m350/350\u001b[0m \u001b[32m━━━━━━━━━━━━━━━━━━━━\u001b[0m\u001b[37m\u001b[0m \u001b[1m104s\u001b[0m 297ms/step - loss: 33.3373 - val_loss: 29.1313 - learning_rate: 3.9721e-05\n",
      "Epoch 44/100\n",
      "\u001b[1m350/350\u001b[0m \u001b[32m━━━━━━━━━━━━━━━━━━━━\u001b[0m\u001b[37m\u001b[0m \u001b[1m0s\u001b[0m 183ms/step - loss: 33.0547\n",
      "Epoch 44: val_loss did not improve from 29.13127\n",
      "Epoch 44: Learning Rate = 3.773536082007922e-05\n",
      "\u001b[1m350/350\u001b[0m \u001b[32m━━━━━━━━━━━━━━━━━━━━\u001b[0m\u001b[37m\u001b[0m \u001b[1m99s\u001b[0m 283ms/step - loss: 33.0544 - val_loss: 29.5070 - learning_rate: 3.7735e-05\n",
      "Epoch 45/100\n",
      "\u001b[1m350/350\u001b[0m \u001b[32m━━━━━━━━━━━━━━━━━━━━\u001b[0m\u001b[37m\u001b[0m \u001b[1m0s\u001b[0m 187ms/step - loss: 32.9085\n",
      "Epoch 45: val_loss improved from 29.13127 to 29.04678, saving model to checkpoint.weights.h5\n",
      "Epoch 45: Learning Rate = 3.584859223337844e-05\n",
      "\u001b[1m350/350\u001b[0m \u001b[32m━━━━━━━━━━━━━━━━━━━━\u001b[0m\u001b[37m\u001b[0m \u001b[1m107s\u001b[0m 306ms/step - loss: 32.9079 - val_loss: 29.0468 - learning_rate: 3.5849e-05\n",
      "Epoch 46/100\n",
      "\u001b[1m350/350\u001b[0m \u001b[32m━━━━━━━━━━━━━━━━━━━━\u001b[0m\u001b[37m\u001b[0m \u001b[1m0s\u001b[0m 189ms/step - loss: 32.4265\n",
      "Epoch 46: val_loss improved from 29.04678 to 28.77127, saving model to checkpoint.weights.h5\n",
      "Epoch 46: Learning Rate = 3.405616371310316e-05\n",
      "\u001b[1m350/350\u001b[0m \u001b[32m━━━━━━━━━━━━━━━━━━━━\u001b[0m\u001b[37m\u001b[0m \u001b[1m102s\u001b[0m 291ms/step - loss: 32.4262 - val_loss: 28.7713 - learning_rate: 3.4056e-05\n",
      "Epoch 47/100\n",
      "\u001b[1m350/350\u001b[0m \u001b[32m━━━━━━━━━━━━━━━━━━━━\u001b[0m\u001b[37m\u001b[0m \u001b[1m0s\u001b[0m 183ms/step - loss: 31.7555\n",
      "Epoch 47: val_loss improved from 28.77127 to 28.31075, saving model to checkpoint.weights.h5\n",
      "Epoch 47: Learning Rate = 3.2353356800740585e-05\n",
      "\u001b[1m350/350\u001b[0m \u001b[32m━━━━━━━━━━━━━━━━━━━━\u001b[0m\u001b[37m\u001b[0m \u001b[1m99s\u001b[0m 283ms/step - loss: 31.7548 - val_loss: 28.3107 - learning_rate: 3.2353e-05\n",
      "Epoch 48/100\n",
      "\u001b[1m350/350\u001b[0m \u001b[32m━━━━━━━━━━━━━━━━━━━━\u001b[0m\u001b[37m\u001b[0m \u001b[1m0s\u001b[0m 179ms/step - loss: 31.3873\n",
      "Epoch 48: val_loss improved from 28.31075 to 27.74930, saving model to checkpoint.weights.h5\n",
      "Epoch 48: Learning Rate = 3.0735689506400377e-05\n",
      "\u001b[1m350/350\u001b[0m \u001b[32m━━━━━━━━━━━━━━━━━━━━\u001b[0m\u001b[37m\u001b[0m \u001b[1m98s\u001b[0m 280ms/step - loss: 31.3873 - val_loss: 27.7493 - learning_rate: 3.0736e-05\n",
      "Epoch 49/100\n",
      "\u001b[1m350/350\u001b[0m \u001b[32m━━━━━━━━━━━━━━━━━━━━\u001b[0m\u001b[37m\u001b[0m \u001b[1m0s\u001b[0m 183ms/step - loss: 31.2257\n",
      "Epoch 49: val_loss improved from 27.74930 to 26.90681, saving model to checkpoint.weights.h5\n",
      "Epoch 49: Learning Rate = 2.919890539487824e-05\n",
      "\u001b[1m350/350\u001b[0m \u001b[32m━━━━━━━━━━━━━━━━━━━━\u001b[0m\u001b[37m\u001b[0m \u001b[1m99s\u001b[0m 284ms/step - loss: 31.2251 - val_loss: 26.9068 - learning_rate: 2.9199e-05\n",
      "Epoch 50/100\n",
      "\u001b[1m350/350\u001b[0m \u001b[32m━━━━━━━━━━━━━━━━━━━━\u001b[0m\u001b[37m\u001b[0m \u001b[1m0s\u001b[0m 178ms/step - loss: 31.0660\n",
      "Epoch 50: val_loss improved from 26.90681 to 26.47817, saving model to checkpoint.weights.h5\n",
      "Epoch 50: Learning Rate = 2.7738960852730088e-05\n",
      "\u001b[1m350/350\u001b[0m \u001b[32m━━━━━━━━━━━━━━━━━━━━\u001b[0m\u001b[37m\u001b[0m \u001b[1m98s\u001b[0m 279ms/step - loss: 31.0649 - val_loss: 26.4782 - learning_rate: 2.7739e-05\n",
      "Epoch 51/100\n",
      "\u001b[1m350/350\u001b[0m \u001b[32m━━━━━━━━━━━━━━━━━━━━\u001b[0m\u001b[37m\u001b[0m \u001b[1m0s\u001b[0m 183ms/step - loss: 30.5495\n",
      "Epoch 51: val_loss did not improve from 26.47817\n",
      "Epoch 51: Learning Rate = 2.6352012355346233e-05\n",
      "\u001b[1m350/350\u001b[0m \u001b[32m━━━━━━━━━━━━━━━━━━━━\u001b[0m\u001b[37m\u001b[0m \u001b[1m97s\u001b[0m 278ms/step - loss: 30.5491 - val_loss: 26.6206 - learning_rate: 2.6352e-05\n",
      "Epoch 52/100\n",
      "\u001b[1m350/350\u001b[0m \u001b[32m━━━━━━━━━━━━━━━━━━━━\u001b[0m\u001b[37m\u001b[0m \u001b[1m0s\u001b[0m 187ms/step - loss: 30.1857\n",
      "Epoch 52: val_loss improved from 26.47817 to 26.07780, saving model to checkpoint.weights.h5\n",
      "Epoch 52: Learning Rate = 2.503441100998316e-05\n",
      "\u001b[1m350/350\u001b[0m \u001b[32m━━━━━━━━━━━━━━━━━━━━\u001b[0m\u001b[37m\u001b[0m \u001b[1m102s\u001b[0m 291ms/step - loss: 30.1851 - val_loss: 26.0778 - learning_rate: 2.5034e-05\n",
      "Epoch 53/100\n",
      "\u001b[1m350/350\u001b[0m \u001b[32m━━━━━━━━━━━━━━━━━━━━\u001b[0m\u001b[37m\u001b[0m \u001b[1m0s\u001b[0m 182ms/step - loss: 29.8828\n",
      "Epoch 53: val_loss improved from 26.07780 to 25.68495, saving model to checkpoint.weights.h5\n",
      "Epoch 53: Learning Rate = 2.378268982283771e-05\n",
      "\u001b[1m350/350\u001b[0m \u001b[32m━━━━━━━━━━━━━━━━━━━━\u001b[0m\u001b[37m\u001b[0m \u001b[1m98s\u001b[0m 279ms/step - loss: 29.8824 - val_loss: 25.6849 - learning_rate: 2.3783e-05\n",
      "Epoch 54/100\n",
      "\u001b[1m350/350\u001b[0m \u001b[32m━━━━━━━━━━━━━━━━━━━━\u001b[0m\u001b[37m\u001b[0m \u001b[1m0s\u001b[0m 179ms/step - loss: 29.6058\n",
      "Epoch 54: val_loss improved from 25.68495 to 25.28165, saving model to checkpoint.weights.h5\n",
      "Epoch 54: Learning Rate = 2.2593554604100063e-05\n",
      "\u001b[1m350/350\u001b[0m \u001b[32m━━━━━━━━━━━━━━━━━━━━\u001b[0m\u001b[37m\u001b[0m \u001b[1m98s\u001b[0m 280ms/step - loss: 29.6053 - val_loss: 25.2816 - learning_rate: 2.2594e-05\n",
      "Epoch 55/100\n",
      "\u001b[1m350/350\u001b[0m \u001b[32m━━━━━━━━━━━━━━━━━━━━\u001b[0m\u001b[37m\u001b[0m \u001b[1m0s\u001b[0m 179ms/step - loss: 29.2415\n",
      "Epoch 55: val_loss improved from 25.28165 to 24.96957, saving model to checkpoint.weights.h5\n",
      "Epoch 55: Learning Rate = 2.146387669199612e-05\n",
      "\u001b[1m350/350\u001b[0m \u001b[32m━━━━━━━━━━━━━━━━━━━━\u001b[0m\u001b[37m\u001b[0m \u001b[1m98s\u001b[0m 279ms/step - loss: 29.2409 - val_loss: 24.9696 - learning_rate: 2.1464e-05\n",
      "Epoch 56/100\n",
      "\u001b[1m350/350\u001b[0m \u001b[32m━━━━━━━━━━━━━━━━━━━━\u001b[0m\u001b[37m\u001b[0m \u001b[1m0s\u001b[0m 184ms/step - loss: 29.0712\n",
      "Epoch 56: val_loss improved from 24.96957 to 24.46304, saving model to checkpoint.weights.h5\n",
      "Epoch 56: Learning Rate = 2.0390682038851082e-05\n",
      "\u001b[1m350/350\u001b[0m \u001b[32m━━━━━━━━━━━━━━━━━━━━\u001b[0m\u001b[37m\u001b[0m \u001b[1m100s\u001b[0m 285ms/step - loss: 29.0705 - val_loss: 24.4630 - learning_rate: 2.0391e-05\n",
      "Epoch 57/100\n",
      "\u001b[1m350/350\u001b[0m \u001b[32m━━━━━━━━━━━━━━━━━━━━\u001b[0m\u001b[37m\u001b[0m \u001b[1m0s\u001b[0m 182ms/step - loss: 28.6976\n",
      "Epoch 57: val_loss improved from 24.46304 to 24.23721, saving model to checkpoint.weights.h5\n",
      "Epoch 57: Learning Rate = 1.9371147573110647e-05\n",
      "\u001b[1m350/350\u001b[0m \u001b[32m━━━━━━━━━━━━━━━━━━━━\u001b[0m\u001b[37m\u001b[0m \u001b[1m99s\u001b[0m 284ms/step - loss: 28.6973 - val_loss: 24.2372 - learning_rate: 1.9371e-05\n",
      "Epoch 58/100\n",
      "\u001b[1m350/350\u001b[0m \u001b[32m━━━━━━━━━━━━━━━━━━━━\u001b[0m\u001b[37m\u001b[0m \u001b[1m0s\u001b[0m 181ms/step - loss: 28.7357\n",
      "Epoch 58: val_loss improved from 24.23721 to 24.08090, saving model to checkpoint.weights.h5\n",
      "Epoch 58: Learning Rate = 1.8402590285404585e-05\n",
      "\u001b[1m350/350\u001b[0m \u001b[32m━━━━━━━━━━━━━━━━━━━━\u001b[0m\u001b[37m\u001b[0m \u001b[1m100s\u001b[0m 285ms/step - loss: 28.7346 - val_loss: 24.0809 - learning_rate: 1.8403e-05\n",
      "Epoch 59/100\n",
      "\u001b[1m350/350\u001b[0m \u001b[32m━━━━━━━━━━━━━━━━━━━━\u001b[0m\u001b[37m\u001b[0m \u001b[1m0s\u001b[0m 189ms/step - loss: 28.2108\n",
      "Epoch 59: val_loss did not improve from 24.08090\n",
      "Epoch 59: Learning Rate = 1.7482459952589124e-05\n",
      "\u001b[1m350/350\u001b[0m \u001b[32m━━━━━━━━━━━━━━━━━━━━\u001b[0m\u001b[37m\u001b[0m \u001b[1m102s\u001b[0m 290ms/step - loss: 28.2104 - val_loss: 24.0864 - learning_rate: 1.7482e-05\n",
      "Epoch 60/100\n",
      "\u001b[1m350/350\u001b[0m \u001b[32m━━━━━━━━━━━━━━━━━━━━\u001b[0m\u001b[37m\u001b[0m \u001b[1m0s\u001b[0m 180ms/step - loss: 28.0977\n",
      "Epoch 60: val_loss improved from 24.08090 to 23.44780, saving model to checkpoint.weights.h5\n",
      "Epoch 60: Learning Rate = 1.660833731875755e-05\n",
      "\u001b[1m350/350\u001b[0m \u001b[32m━━━━━━━━━━━━━━━━━━━━\u001b[0m\u001b[37m\u001b[0m \u001b[1m98s\u001b[0m 281ms/step - loss: 28.0971 - val_loss: 23.4478 - learning_rate: 1.6608e-05\n",
      "Epoch 61/100\n",
      "\u001b[1m350/350\u001b[0m \u001b[32m━━━━━━━━━━━━━━━━━━━━\u001b[0m\u001b[37m\u001b[0m \u001b[1m0s\u001b[0m 180ms/step - loss: 27.5251\n",
      "Epoch 61: val_loss did not improve from 23.44780\n",
      "Epoch 61: Learning Rate = 1.5777921362314373e-05\n",
      "\u001b[1m350/350\u001b[0m \u001b[32m━━━━━━━━━━━━━━━━━━━━\u001b[0m\u001b[37m\u001b[0m \u001b[1m97s\u001b[0m 278ms/step - loss: 27.5247 - val_loss: 23.6619 - learning_rate: 1.5778e-05\n",
      "Epoch 62/100\n",
      "\u001b[1m350/350\u001b[0m \u001b[32m━━━━━━━━━━━━━━━━━━━━\u001b[0m\u001b[37m\u001b[0m \u001b[1m0s\u001b[0m 187ms/step - loss: 27.6976\n",
      "Epoch 62: val_loss improved from 23.44780 to 23.19585, saving model to checkpoint.weights.h5\n",
      "Epoch 62: Learning Rate = 1.4989025657996535e-05\n",
      "\u001b[1m350/350\u001b[0m \u001b[32m━━━━━━━━━━━━━━━━━━━━\u001b[0m\u001b[37m\u001b[0m \u001b[1m102s\u001b[0m 292ms/step - loss: 27.6965 - val_loss: 23.1959 - learning_rate: 1.4989e-05\n",
      "Epoch 63/100\n",
      "\u001b[1m350/350\u001b[0m \u001b[32m━━━━━━━━━━━━━━━━━━━━\u001b[0m\u001b[37m\u001b[0m \u001b[1m0s\u001b[0m 180ms/step - loss: 27.4044\n",
      "Epoch 63: val_loss improved from 23.19585 to 22.97480, saving model to checkpoint.weights.h5\n",
      "Epoch 63: Learning Rate = 1.423957473889459e-05\n",
      "\u001b[1m350/350\u001b[0m \u001b[32m━━━━━━━━━━━━━━━━━━━━\u001b[0m\u001b[37m\u001b[0m \u001b[1m99s\u001b[0m 283ms/step - loss: 27.4035 - val_loss: 22.9748 - learning_rate: 1.4240e-05\n",
      "Epoch 64/100\n",
      "\u001b[1m350/350\u001b[0m \u001b[32m━━━━━━━━━━━━━━━━━━━━\u001b[0m\u001b[37m\u001b[0m \u001b[1m0s\u001b[0m 184ms/step - loss: 26.9732\n",
      "Epoch 64: val_loss improved from 22.97480 to 22.87057, saving model to checkpoint.weights.h5\n",
      "Epoch 64: Learning Rate = 1.352759591100039e-05\n",
      "\u001b[1m350/350\u001b[0m \u001b[32m━━━━━━━━━━━━━━━━━━━━\u001b[0m\u001b[37m\u001b[0m \u001b[1m100s\u001b[0m 287ms/step - loss: 26.9726 - val_loss: 22.8706 - learning_rate: 1.3528e-05\n",
      "Epoch 65/100\n",
      "\u001b[1m350/350\u001b[0m \u001b[32m━━━━━━━━━━━━━━━━━━━━\u001b[0m\u001b[37m\u001b[0m \u001b[1m0s\u001b[0m 189ms/step - loss: 26.9917\n",
      "Epoch 65: val_loss improved from 22.87057 to 22.61854, saving model to checkpoint.weights.h5\n",
      "Epoch 65: Learning Rate = 1.2851216524722986e-05\n",
      "\u001b[1m350/350\u001b[0m \u001b[32m━━━━━━━━━━━━━━━━━━━━\u001b[0m\u001b[37m\u001b[0m \u001b[1m101s\u001b[0m 289ms/step - loss: 26.9911 - val_loss: 22.6185 - learning_rate: 1.2851e-05\n",
      "Epoch 66/100\n",
      "\u001b[1m350/350\u001b[0m \u001b[32m━━━━━━━━━━━━━━━━━━━━\u001b[0m\u001b[37m\u001b[0m \u001b[1m0s\u001b[0m 179ms/step - loss: 26.6792\n",
      "Epoch 66: val_loss improved from 22.61854 to 22.27268, saving model to checkpoint.weights.h5\n",
      "Epoch 66: Learning Rate = 1.2208655789436307e-05\n",
      "\u001b[1m350/350\u001b[0m \u001b[32m━━━━━━━━━━━━━━━━━━━━\u001b[0m\u001b[37m\u001b[0m \u001b[1m99s\u001b[0m 283ms/step - loss: 26.6788 - val_loss: 22.2727 - learning_rate: 1.2209e-05\n",
      "Epoch 67/100\n",
      "\u001b[1m350/350\u001b[0m \u001b[32m━━━━━━━━━━━━━━━━━━━━\u001b[0m\u001b[37m\u001b[0m \u001b[1m0s\u001b[0m 184ms/step - loss: 26.9761\n",
      "Epoch 67: val_loss improved from 22.27268 to 22.23584, saving model to checkpoint.weights.h5\n",
      "Epoch 67: Learning Rate = 1.1598222954489756e-05\n",
      "\u001b[1m350/350\u001b[0m \u001b[32m━━━━━━━━━━━━━━━━━━━━\u001b[0m\u001b[37m\u001b[0m \u001b[1m101s\u001b[0m 288ms/step - loss: 26.9749 - val_loss: 22.2358 - learning_rate: 1.1598e-05\n",
      "Epoch 68/100\n",
      "\u001b[1m350/350\u001b[0m \u001b[32m━━━━━━━━━━━━━━━━━━━━\u001b[0m\u001b[37m\u001b[0m \u001b[1m0s\u001b[0m 185ms/step - loss: 26.3684\n",
      "Epoch 68: val_loss improved from 22.23584 to 22.23384, saving model to checkpoint.weights.h5\n",
      "Epoch 68: Learning Rate = 1.1018311852240004e-05\n",
      "\u001b[1m350/350\u001b[0m \u001b[32m━━━━━━━━━━━━━━━━━━━━\u001b[0m\u001b[37m\u001b[0m \u001b[1m99s\u001b[0m 283ms/step - loss: 26.3677 - val_loss: 22.2338 - learning_rate: 1.1018e-05\n",
      "Epoch 69/100\n",
      "\u001b[1m350/350\u001b[0m \u001b[32m━━━━━━━━━━━━━━━━━━━━\u001b[0m\u001b[37m\u001b[0m \u001b[1m0s\u001b[0m 181ms/step - loss: 26.2483\n",
      "Epoch 69: val_loss improved from 22.23384 to 21.88831, saving model to checkpoint.weights.h5\n",
      "Epoch 69: Learning Rate = 1.0467396350577474e-05\n",
      "\u001b[1m350/350\u001b[0m \u001b[32m━━━━━━━━━━━━━━━━━━━━\u001b[0m\u001b[37m\u001b[0m \u001b[1m99s\u001b[0m 283ms/step - loss: 26.2476 - val_loss: 21.8883 - learning_rate: 1.0467e-05\n",
      "Epoch 70/100\n",
      "\u001b[1m350/350\u001b[0m \u001b[32m━━━━━━━━━━━━━━━━━━━━\u001b[0m\u001b[37m\u001b[0m \u001b[1m0s\u001b[0m 184ms/step - loss: 26.1043\n",
      "Epoch 70: val_loss improved from 21.88831 to 21.62163, saving model to checkpoint.weights.h5\n",
      "Epoch 70: Learning Rate = 9.94402671494754e-06\n",
      "\u001b[1m350/350\u001b[0m \u001b[32m━━━━━━━━━━━━━━━━━━━━\u001b[0m\u001b[37m\u001b[0m \u001b[1m101s\u001b[0m 288ms/step - loss: 26.1040 - val_loss: 21.6216 - learning_rate: 9.9440e-06\n",
      "Epoch 71/100\n",
      "\u001b[1m350/350\u001b[0m \u001b[32m━━━━━━━━━━━━━━━━━━━━\u001b[0m\u001b[37m\u001b[0m \u001b[1m0s\u001b[0m 186ms/step - loss: 26.0644\n",
      "Epoch 71: val_loss did not improve from 21.62163\n",
      "Epoch 71: Learning Rate = 9.446825060877018e-06\n",
      "\u001b[1m350/350\u001b[0m \u001b[32m━━━━━━━━━━━━━━━━━━━━\u001b[0m\u001b[37m\u001b[0m \u001b[1m101s\u001b[0m 288ms/step - loss: 26.0637 - val_loss: 21.8590 - learning_rate: 9.4468e-06\n",
      "Epoch 72/100\n",
      "\u001b[1m350/350\u001b[0m \u001b[32m━━━━━━━━━━━━━━━━━━━━\u001b[0m\u001b[37m\u001b[0m \u001b[1m0s\u001b[0m 182ms/step - loss: 25.8941\n",
      "Epoch 72: val_loss improved from 21.62163 to 21.56034, saving model to checkpoint.weights.h5\n",
      "Epoch 72: Learning Rate = 8.974483534984756e-06\n",
      "\u001b[1m350/350\u001b[0m \u001b[32m━━━━━━━━━━━━━━━━━━━━\u001b[0m\u001b[37m\u001b[0m \u001b[1m100s\u001b[0m 285ms/step - loss: 25.8932 - val_loss: 21.5603 - learning_rate: 8.9745e-06\n",
      "Epoch 73/100\n",
      "\u001b[1m350/350\u001b[0m \u001b[32m━━━━━━━━━━━━━━━━━━━━\u001b[0m\u001b[37m\u001b[0m \u001b[1m0s\u001b[0m 184ms/step - loss: 25.8113\n",
      "Epoch 73: val_loss improved from 21.56034 to 21.41435, saving model to checkpoint.weights.h5\n",
      "Epoch 73: Learning Rate = 8.525759767508134e-06\n",
      "\u001b[1m350/350\u001b[0m \u001b[32m━━━━━━━━━━━━━━━━━━━━\u001b[0m\u001b[37m\u001b[0m \u001b[1m100s\u001b[0m 285ms/step - loss: 25.8104 - val_loss: 21.4144 - learning_rate: 8.5258e-06\n",
      "Epoch 74/100\n",
      "\u001b[1m350/350\u001b[0m \u001b[32m━━━━━━━━━━━━━━━━━━━━\u001b[0m\u001b[37m\u001b[0m \u001b[1m0s\u001b[0m 186ms/step - loss: 25.6008\n",
      "Epoch 74: val_loss did not improve from 21.41435\n",
      "Epoch 74: Learning Rate = 8.099471415334847e-06\n",
      "\u001b[1m350/350\u001b[0m \u001b[32m━━━━━━━━━━━━━━━━━━━━\u001b[0m\u001b[37m\u001b[0m \u001b[1m101s\u001b[0m 289ms/step - loss: 25.6001 - val_loss: 21.6124 - learning_rate: 8.0995e-06\n",
      "Epoch 75/100\n",
      "\u001b[1m350/350\u001b[0m \u001b[32m━━━━━━━━━━━━━━━━━━━━\u001b[0m\u001b[37m\u001b[0m \u001b[1m0s\u001b[0m 190ms/step - loss: 25.5968\n",
      "Epoch 75: val_loss improved from 21.41435 to 21.23302, saving model to checkpoint.weights.h5\n",
      "Epoch 75: Learning Rate = 7.69449798099231e-06\n",
      "\u001b[1m350/350\u001b[0m \u001b[32m━━━━━━━━━━━━━━━━━━━━\u001b[0m\u001b[37m\u001b[0m \u001b[1m102s\u001b[0m 292ms/step - loss: 25.5960 - val_loss: 21.2330 - learning_rate: 7.6945e-06\n",
      "Epoch 76/100\n",
      "\u001b[1m350/350\u001b[0m \u001b[32m━━━━━━━━━━━━━━━━━━━━\u001b[0m\u001b[37m\u001b[0m \u001b[1m0s\u001b[0m 183ms/step - loss: 25.6641\n",
      "Epoch 76: val_loss improved from 21.23302 to 21.20257, saving model to checkpoint.weights.h5\n",
      "Epoch 76: Learning Rate = 7.309773081942694e-06\n",
      "\u001b[1m350/350\u001b[0m \u001b[32m━━━━━━━━━━━━━━━━━━━━\u001b[0m\u001b[37m\u001b[0m \u001b[1m101s\u001b[0m 289ms/step - loss: 25.6630 - val_loss: 21.2026 - learning_rate: 7.3098e-06\n",
      "Epoch 77/100\n",
      "\u001b[1m350/350\u001b[0m \u001b[32m━━━━━━━━━━━━━━━━━━━━\u001b[0m\u001b[37m\u001b[0m \u001b[1m0s\u001b[0m 181ms/step - loss: 25.1373\n",
      "Epoch 77: val_loss improved from 21.20257 to 20.99539, saving model to checkpoint.weights.h5\n",
      "Epoch 77: Learning Rate = 6.944284450582927e-06\n",
      "\u001b[1m350/350\u001b[0m \u001b[32m━━━━━━━━━━━━━━━━━━━━\u001b[0m\u001b[37m\u001b[0m \u001b[1m99s\u001b[0m 283ms/step - loss: 25.1369 - val_loss: 20.9954 - learning_rate: 6.9443e-06\n",
      "Epoch 78/100\n",
      "\u001b[1m350/350\u001b[0m \u001b[32m━━━━━━━━━━━━━━━━━━━━\u001b[0m\u001b[37m\u001b[0m \u001b[1m0s\u001b[0m 180ms/step - loss: 25.3029\n",
      "Epoch 78: val_loss did not improve from 20.99539\n",
      "Epoch 78: Learning Rate = 6.597070296265883e-06\n",
      "\u001b[1m350/350\u001b[0m \u001b[32m━━━━━━━━━━━━━━━━━━━━\u001b[0m\u001b[37m\u001b[0m \u001b[1m98s\u001b[0m 279ms/step - loss: 25.3021 - val_loss: 21.4051 - learning_rate: 6.5971e-06\n",
      "Epoch 79/100\n",
      "\u001b[1m350/350\u001b[0m \u001b[32m━━━━━━━━━━━━━━━━━━━━\u001b[0m\u001b[37m\u001b[0m \u001b[1m0s\u001b[0m 180ms/step - loss: 25.2670\n",
      "Epoch 79: val_loss did not improve from 20.99539\n",
      "Epoch 79: Learning Rate = 6.267216576816281e-06\n",
      "\u001b[1m350/350\u001b[0m \u001b[32m━━━━━━━━━━━━━━━━━━━━\u001b[0m\u001b[37m\u001b[0m \u001b[1m98s\u001b[0m 281ms/step - loss: 25.2662 - val_loss: 21.0892 - learning_rate: 6.2672e-06\n",
      "Epoch 80/100\n",
      "\u001b[1m350/350\u001b[0m \u001b[32m━━━━━━━━━━━━━━━━━━━━\u001b[0m\u001b[37m\u001b[0m \u001b[1m0s\u001b[0m 180ms/step - loss: 25.4741\n",
      "Epoch 80: val_loss improved from 20.99539 to 20.68848, saving model to checkpoint.weights.h5\n",
      "Epoch 80: Learning Rate = 5.9538556342886295e-06\n",
      "\u001b[1m350/350\u001b[0m \u001b[32m━━━━━━━━━━━━━━━━━━━━\u001b[0m\u001b[37m\u001b[0m \u001b[1m98s\u001b[0m 281ms/step - loss: 25.4730 - val_loss: 20.6885 - learning_rate: 5.9539e-06\n",
      "Epoch 81/100\n",
      "\u001b[1m350/350\u001b[0m \u001b[32m━━━━━━━━━━━━━━━━━━━━\u001b[0m\u001b[37m\u001b[0m \u001b[1m0s\u001b[0m 185ms/step - loss: 25.0251\n",
      "Epoch 81: val_loss did not improve from 20.68848\n",
      "Epoch 81: Learning Rate = 5.656163011735771e-06\n",
      "\u001b[1m350/350\u001b[0m \u001b[32m━━━━━━━━━━━━━━━━━━━━\u001b[0m\u001b[37m\u001b[0m \u001b[1m99s\u001b[0m 283ms/step - loss: 25.0245 - val_loss: 20.8843 - learning_rate: 5.6562e-06\n",
      "Epoch 82/100\n",
      "\u001b[1m350/350\u001b[0m \u001b[32m━━━━━━━━━━━━━━━━━━━━\u001b[0m\u001b[37m\u001b[0m \u001b[1m0s\u001b[0m 181ms/step - loss: 25.0389\n",
      "Epoch 82: val_loss did not improve from 20.68848\n",
      "Epoch 82: Learning Rate = 5.373354724724777e-06\n",
      "\u001b[1m350/350\u001b[0m \u001b[32m━━━━━━━━━━━━━━━━━━━━\u001b[0m\u001b[37m\u001b[0m \u001b[1m98s\u001b[0m 281ms/step - loss: 25.0378 - val_loss: 20.7165 - learning_rate: 5.3734e-06\n",
      "Epoch 83/100\n",
      "\u001b[1m350/350\u001b[0m \u001b[32m━━━━━━━━━━━━━━━━━━━━\u001b[0m\u001b[37m\u001b[0m \u001b[1m0s\u001b[0m 179ms/step - loss: 25.1523\n",
      "Epoch 83: val_loss improved from 20.68848 to 20.46729, saving model to checkpoint.weights.h5\n",
      "Epoch 83: Learning Rate = 5.104686806589598e-06\n",
      "\u001b[1m350/350\u001b[0m \u001b[32m━━━━━━━━━━━━━━━━━━━━\u001b[0m\u001b[37m\u001b[0m \u001b[1m98s\u001b[0m 280ms/step - loss: 25.1509 - val_loss: 20.4673 - learning_rate: 5.1047e-06\n",
      "Epoch 84/100\n",
      "\u001b[1m350/350\u001b[0m \u001b[32m━━━━━━━━━━━━━━━━━━━━\u001b[0m\u001b[37m\u001b[0m \u001b[1m0s\u001b[0m 184ms/step - loss: 24.5951\n",
      "Epoch 84: val_loss did not improve from 20.46729\n",
      "Epoch 84: Learning Rate = 4.849452579946956e-06\n",
      "\u001b[1m350/350\u001b[0m \u001b[32m━━━━━━━━━━━━━━━━━━━━\u001b[0m\u001b[37m\u001b[0m \u001b[1m100s\u001b[0m 285ms/step - loss: 24.5945 - val_loss: 20.5919 - learning_rate: 4.8495e-06\n",
      "Epoch 85/100\n",
      "\u001b[1m350/350\u001b[0m \u001b[32m━━━━━━━━━━━━━━━━━━━━\u001b[0m\u001b[37m\u001b[0m \u001b[1m0s\u001b[0m 178ms/step - loss: 24.9700\n",
      "Epoch 85: val_loss did not improve from 20.46729\n",
      "Epoch 85: Learning Rate = 4.60697992821224e-06\n",
      "\u001b[1m350/350\u001b[0m \u001b[32m━━━━━━━━━━━━━━━━━━━━\u001b[0m\u001b[37m\u001b[0m \u001b[1m97s\u001b[0m 279ms/step - loss: 24.9684 - val_loss: 20.6454 - learning_rate: 4.6070e-06\n",
      "Epoch 86/100\n",
      "\u001b[1m350/350\u001b[0m \u001b[32m━━━━━━━━━━━━━━━━━━━━\u001b[0m\u001b[37m\u001b[0m \u001b[1m0s\u001b[0m 182ms/step - loss: 24.7451\n",
      "Epoch 86: val_loss improved from 20.46729 to 20.34982, saving model to checkpoint.weights.h5\n",
      "Epoch 86: Learning Rate = 4.376630840852158e-06\n",
      "\u001b[1m350/350\u001b[0m \u001b[32m━━━━━━━━━━━━━━━━━━━━\u001b[0m\u001b[37m\u001b[0m \u001b[1m100s\u001b[0m 285ms/step - loss: 24.7443 - val_loss: 20.3498 - learning_rate: 4.3766e-06\n",
      "Epoch 87/100\n",
      "\u001b[1m350/350\u001b[0m \u001b[32m━━━━━━━━━━━━━━━━━━━━\u001b[0m\u001b[37m\u001b[0m \u001b[1m0s\u001b[0m 184ms/step - loss: 24.7755\n",
      "Epoch 87: val_loss improved from 20.34982 to 20.25181, saving model to checkpoint.weights.h5\n",
      "Epoch 87: Learning Rate = 4.1577991396479774e-06\n",
      "\u001b[1m350/350\u001b[0m \u001b[32m━━━━━━━━━━━━━━━━━━━━\u001b[0m\u001b[37m\u001b[0m \u001b[1m106s\u001b[0m 303ms/step - loss: 24.7745 - val_loss: 20.2518 - learning_rate: 4.1578e-06\n",
      "Epoch 88/100\n",
      "\u001b[1m350/350\u001b[0m \u001b[32m━━━━━━━━━━━━━━━━━━━━\u001b[0m\u001b[37m\u001b[0m \u001b[1m0s\u001b[0m 184ms/step - loss: 24.6041\n",
      "Epoch 88: val_loss improved from 20.25181 to 20.20119, saving model to checkpoint.weights.h5\n",
      "Epoch 88: Learning Rate = 3.949909114453476e-06\n",
      "\u001b[1m350/350\u001b[0m \u001b[32m━━━━━━━━━━━━━━━━━━━━\u001b[0m\u001b[37m\u001b[0m \u001b[1m100s\u001b[0m 286ms/step - loss: 24.6034 - val_loss: 20.2012 - learning_rate: 3.9499e-06\n",
      "Epoch 89/100\n",
      "\u001b[1m350/350\u001b[0m \u001b[32m━━━━━━━━━━━━━━━━━━━━\u001b[0m\u001b[37m\u001b[0m \u001b[1m0s\u001b[0m 182ms/step - loss: 24.4944\n",
      "Epoch 89: val_loss improved from 20.20119 to 20.16631, saving model to checkpoint.weights.h5\n",
      "Epoch 89: Learning Rate = 3.7524137042055372e-06\n",
      "\u001b[1m350/350\u001b[0m \u001b[32m━━━━━━━━━━━━━━━━━━━━\u001b[0m\u001b[37m\u001b[0m \u001b[1m105s\u001b[0m 301ms/step - loss: 24.4935 - val_loss: 20.1663 - learning_rate: 3.7524e-06\n",
      "Epoch 90/100\n",
      "\u001b[1m350/350\u001b[0m \u001b[32m━━━━━━━━━━━━━━━━━━━━\u001b[0m\u001b[37m\u001b[0m \u001b[1m0s\u001b[0m 183ms/step - loss: 24.7051\n",
      "Epoch 90: val_loss improved from 20.16631 to 20.03940, saving model to checkpoint.weights.h5\n",
      "Epoch 90: Learning Rate = 3.564793132682098e-06\n",
      "\u001b[1m350/350\u001b[0m \u001b[32m━━━━━━━━━━━━━━━━━━━━\u001b[0m\u001b[37m\u001b[0m \u001b[1m99s\u001b[0m 283ms/step - loss: 24.7041 - val_loss: 20.0394 - learning_rate: 3.5648e-06\n",
      "Epoch 91/100\n",
      "\u001b[1m350/350\u001b[0m \u001b[32m━━━━━━━━━━━━━━━━━━━━\u001b[0m\u001b[37m\u001b[0m \u001b[1m0s\u001b[0m 188ms/step - loss: 24.4649\n",
      "Epoch 91: val_loss did not improve from 20.03940\n",
      "Epoch 91: Learning Rate = 3.386553544260096e-06\n",
      "\u001b[1m350/350\u001b[0m \u001b[32m━━━━━━━━━━━━━━━━━━━━\u001b[0m\u001b[37m\u001b[0m \u001b[1m101s\u001b[0m 288ms/step - loss: 24.4643 - val_loss: 20.2803 - learning_rate: 3.3866e-06\n",
      "Epoch 92/100\n",
      "\u001b[1m350/350\u001b[0m \u001b[32m━━━━━━━━━━━━━━━━━━━━\u001b[0m\u001b[37m\u001b[0m \u001b[1m0s\u001b[0m 182ms/step - loss: 24.6927\n",
      "Epoch 92: val_loss did not improve from 20.03940\n",
      "Epoch 92: Learning Rate = 3.217225867047091e-06\n",
      "\u001b[1m350/350\u001b[0m \u001b[32m━━━━━━━━━━━━━━━━━━━━\u001b[0m\u001b[37m\u001b[0m \u001b[1m99s\u001b[0m 282ms/step - loss: 24.6913 - val_loss: 20.0912 - learning_rate: 3.2172e-06\n",
      "Epoch 93/100\n",
      "\u001b[1m350/350\u001b[0m \u001b[32m━━━━━━━━━━━━━━━━━━━━\u001b[0m\u001b[37m\u001b[0m \u001b[1m0s\u001b[0m 181ms/step - loss: 24.8023\n",
      "Epoch 93: val_loss improved from 20.03940 to 19.93384, saving model to checkpoint.weights.h5\n",
      "Epoch 93: Learning Rate = 3.0563646760128904e-06\n",
      "\u001b[1m350/350\u001b[0m \u001b[32m━━━━━━━━━━━━━━━━━━━━\u001b[0m\u001b[37m\u001b[0m \u001b[1m98s\u001b[0m 280ms/step - loss: 24.8009 - val_loss: 19.9338 - learning_rate: 3.0564e-06\n",
      "Epoch 94/100\n",
      "\u001b[1m350/350\u001b[0m \u001b[32m━━━━━━━━━━━━━━━━━━━━\u001b[0m\u001b[37m\u001b[0m \u001b[1m0s\u001b[0m 181ms/step - loss: 24.3743\n",
      "Epoch 94: val_loss improved from 19.93384 to 19.90209, saving model to checkpoint.weights.h5\n",
      "Epoch 94: Learning Rate = 2.9035463740001433e-06\n",
      "\u001b[1m350/350\u001b[0m \u001b[32m━━━━━━━━━━━━━━━━━━━━\u001b[0m\u001b[37m\u001b[0m \u001b[1m98s\u001b[0m 281ms/step - loss: 24.3736 - val_loss: 19.9021 - learning_rate: 2.9035e-06\n",
      "Epoch 95/100\n",
      "\u001b[1m350/350\u001b[0m \u001b[32m━━━━━━━━━━━━━━━━━━━━\u001b[0m\u001b[37m\u001b[0m \u001b[1m0s\u001b[0m 180ms/step - loss: 24.6389\n",
      "Epoch 95: val_loss improved from 19.90209 to 19.85007, saving model to checkpoint.weights.h5\n",
      "Epoch 95: Learning Rate = 2.758368964350666e-06\n",
      "\u001b[1m350/350\u001b[0m \u001b[32m━━━━━━━━━━━━━━━━━━━━\u001b[0m\u001b[37m\u001b[0m \u001b[1m99s\u001b[0m 282ms/step - loss: 24.6378 - val_loss: 19.8501 - learning_rate: 2.7584e-06\n",
      "Epoch 96/100\n",
      "\u001b[1m350/350\u001b[0m \u001b[32m━━━━━━━━━━━━━━━━━━━━\u001b[0m\u001b[37m\u001b[0m \u001b[1m0s\u001b[0m 182ms/step - loss: 24.4385\n",
      "Epoch 96: val_loss improved from 19.85007 to 19.84445, saving model to checkpoint.weights.h5\n",
      "Epoch 96: Learning Rate = 2.6204504592897138e-06\n",
      "\u001b[1m350/350\u001b[0m \u001b[32m━━━━━━━━━━━━━━━━━━━━\u001b[0m\u001b[37m\u001b[0m \u001b[1m99s\u001b[0m 284ms/step - loss: 24.4377 - val_loss: 19.8444 - learning_rate: 2.6205e-06\n",
      "Epoch 97/100\n",
      "\u001b[1m350/350\u001b[0m \u001b[32m━━━━━━━━━━━━━━━━━━━━\u001b[0m\u001b[37m\u001b[0m \u001b[1m0s\u001b[0m 183ms/step - loss: 24.5675\n",
      "Epoch 97: val_loss improved from 19.84445 to 19.79346, saving model to checkpoint.weights.h5\n",
      "Epoch 97: Learning Rate = 2.4894279704312794e-06\n",
      "\u001b[1m350/350\u001b[0m \u001b[32m━━━━━━━━━━━━━━━━━━━━\u001b[0m\u001b[37m\u001b[0m \u001b[1m99s\u001b[0m 283ms/step - loss: 24.5665 - val_loss: 19.7935 - learning_rate: 2.4894e-06\n",
      "Epoch 98/100\n",
      "\u001b[1m350/350\u001b[0m \u001b[32m━━━━━━━━━━━━━━━━━━━━\u001b[0m\u001b[37m\u001b[0m \u001b[1m0s\u001b[0m 182ms/step - loss: 24.3696\n",
      "Epoch 98: val_loss improved from 19.79346 to 19.72639, saving model to checkpoint.weights.h5\n",
      "Epoch 98: Learning Rate = 2.3649565719097154e-06\n",
      "\u001b[1m350/350\u001b[0m \u001b[32m━━━━━━━━━━━━━━━━━━━━\u001b[0m\u001b[37m\u001b[0m \u001b[1m99s\u001b[0m 284ms/step - loss: 24.3689 - val_loss: 19.7264 - learning_rate: 2.3650e-06\n",
      "Epoch 99/100\n",
      "\u001b[1m350/350\u001b[0m \u001b[32m━━━━━━━━━━━━━━━━━━━━\u001b[0m\u001b[37m\u001b[0m \u001b[1m0s\u001b[0m 181ms/step - loss: 24.3239\n",
      "Epoch 99: val_loss did not improve from 19.72639\n",
      "Epoch 99: Learning Rate = 2.2467088456323836e-06\n",
      "\u001b[1m350/350\u001b[0m \u001b[32m━━━━━━━━━━━━━━━━━━━━\u001b[0m\u001b[37m\u001b[0m \u001b[1m98s\u001b[0m 279ms/step - loss: 24.3235 - val_loss: 19.7872 - learning_rate: 2.2467e-06\n",
      "Epoch 100/100\n",
      "\u001b[1m350/350\u001b[0m \u001b[32m━━━━━━━━━━━━━━━━━━━━\u001b[0m\u001b[37m\u001b[0m \u001b[1m0s\u001b[0m 183ms/step - loss: 24.4183\n",
      "Epoch 100: val_loss improved from 19.72639 to 19.72013, saving model to checkpoint.weights.h5\n",
      "Epoch 100: Learning Rate = 2.134373517037602e-06\n",
      "\u001b[1m350/350\u001b[0m \u001b[32m━━━━━━━━━━━━━━━━━━━━\u001b[0m\u001b[37m\u001b[0m \u001b[1m100s\u001b[0m 285ms/step - loss: 24.4177 - val_loss: 19.7201 - learning_rate: 2.1344e-06\n",
      "Restoring model weights from the end of the best epoch: 100.\n"
     ]
    }
   ],
   "source": [
    "history = lip_model.fit(\n",
    "    train_data,\n",
    "    validation_data=test_data,\n",
    "    epochs=100,\n",
    "    \n",
    "    callbacks=[\n",
    "        checkpoint_callback,\n",
    "        schedule_callback,\n",
    "        PrintLRCallback(),\n",
    "        early_stopping,\n",
    "    ]\n",
    ")"
   ]
  },
  {
   "cell_type": "markdown",
   "metadata": {},
   "source": [
    "# 8. evaluate the model"
   ]
  },
  {
   "cell_type": "code",
   "execution_count": 37,
   "metadata": {
    "execution": {
     "iopub.execute_input": "2025-02-02T23:26:17.280021Z",
     "iopub.status.busy": "2025-02-02T23:26:17.279700Z",
     "iopub.status.idle": "2025-02-02T23:26:17.285029Z",
     "shell.execute_reply": "2025-02-02T23:26:17.284318Z",
     "shell.execute_reply.started": "2025-02-02T23:26:17.279989Z"
    },
    "trusted": true
   },
   "outputs": [],
   "source": [
    "def calculate_cer(y_true, y_pred, decoder):\n",
    "    cer_scores = []\n",
    "    for i in range(len(y_true)):\n",
    "        true_text = tf.strings.reduce_join(num_to_char(y_true[i])).numpy().decode('utf-8')\n",
    "        decoded = decoder(y_pred[i:i+1])[0]\n",
    "        cer_scores.append(levenshtein_distance(true_text, decoded) / len(true_text))\n",
    "    return np.mean(cer_scores)"
   ]
  },
  {
   "cell_type": "code",
   "execution_count": 38,
   "metadata": {
    "execution": {
     "iopub.execute_input": "2025-02-02T23:26:17.285941Z",
     "iopub.status.busy": "2025-02-02T23:26:17.285720Z",
     "iopub.status.idle": "2025-02-02T23:26:55.169383Z",
     "shell.execute_reply": "2025-02-02T23:26:55.168528Z",
     "shell.execute_reply.started": "2025-02-02T23:26:17.285922Z"
    },
    "trusted": true
   },
   "outputs": [
    {
     "name": "stdout",
     "output_type": "stream",
     "text": [
      "\u001b[1m1/1\u001b[0m \u001b[32m━━━━━━━━━━━━━━━━━━━━\u001b[0m\u001b[37m\u001b[0m \u001b[1m0s\u001b[0m 48ms/step\n",
      "\u001b[1m1/1\u001b[0m \u001b[32m━━━━━━━━━━━━━━━━━━━━\u001b[0m\u001b[37m\u001b[0m \u001b[1m0s\u001b[0m 43ms/step\n",
      "\u001b[1m1/1\u001b[0m \u001b[32m━━━━━━━━━━━━━━━━━━━━\u001b[0m\u001b[37m\u001b[0m \u001b[1m0s\u001b[0m 37ms/step\n",
      "\u001b[1m1/1\u001b[0m \u001b[32m━━━━━━━━━━━━━━━━━━━━\u001b[0m\u001b[37m\u001b[0m \u001b[1m0s\u001b[0m 47ms/step\n",
      "\u001b[1m1/1\u001b[0m \u001b[32m━━━━━━━━━━━━━━━━━━━━\u001b[0m\u001b[37m\u001b[0m \u001b[1m0s\u001b[0m 40ms/step\n",
      "\u001b[1m1/1\u001b[0m \u001b[32m━━━━━━━━━━━━━━━━━━━━\u001b[0m\u001b[37m\u001b[0m \u001b[1m0s\u001b[0m 37ms/step\n",
      "\u001b[1m1/1\u001b[0m \u001b[32m━━━━━━━━━━━━━━━━━━━━\u001b[0m\u001b[37m\u001b[0m \u001b[1m0s\u001b[0m 85ms/step\n",
      "\u001b[1m1/1\u001b[0m \u001b[32m━━━━━━━━━━━━━━━━━━━━\u001b[0m\u001b[37m\u001b[0m \u001b[1m0s\u001b[0m 44ms/step\n",
      "\u001b[1m1/1\u001b[0m \u001b[32m━━━━━━━━━━━━━━━━━━━━\u001b[0m\u001b[37m\u001b[0m \u001b[1m0s\u001b[0m 37ms/step\n",
      "\u001b[1m1/1\u001b[0m \u001b[32m━━━━━━━━━━━━━━━━━━━━\u001b[0m\u001b[37m\u001b[0m \u001b[1m0s\u001b[0m 43ms/step\n",
      "\u001b[1m1/1\u001b[0m \u001b[32m━━━━━━━━━━━━━━━━━━━━\u001b[0m\u001b[37m\u001b[0m \u001b[1m0s\u001b[0m 38ms/step\n",
      "\u001b[1m1/1\u001b[0m \u001b[32m━━━━━━━━━━━━━━━━━━━━\u001b[0m\u001b[37m\u001b[0m \u001b[1m0s\u001b[0m 36ms/step\n",
      "\u001b[1m1/1\u001b[0m \u001b[32m━━━━━━━━━━━━━━━━━━━━\u001b[0m\u001b[37m\u001b[0m \u001b[1m0s\u001b[0m 69ms/step\n",
      "\u001b[1m1/1\u001b[0m \u001b[32m━━━━━━━━━━━━━━━━━━━━\u001b[0m\u001b[37m\u001b[0m \u001b[1m0s\u001b[0m 40ms/step\n",
      "\u001b[1m1/1\u001b[0m \u001b[32m━━━━━━━━━━━━━━━━━━━━\u001b[0m\u001b[37m\u001b[0m \u001b[1m0s\u001b[0m 68ms/step\n",
      "\u001b[1m1/1\u001b[0m \u001b[32m━━━━━━━━━━━━━━━━━━━━\u001b[0m\u001b[37m\u001b[0m \u001b[1m0s\u001b[0m 67ms/step\n",
      "\u001b[1m1/1\u001b[0m \u001b[32m━━━━━━━━━━━━━━━━━━━━\u001b[0m\u001b[37m\u001b[0m \u001b[1m0s\u001b[0m 40ms/step\n",
      "\u001b[1m1/1\u001b[0m \u001b[32m━━━━━━━━━━━━━━━━━━━━\u001b[0m\u001b[37m\u001b[0m \u001b[1m0s\u001b[0m 36ms/step\n",
      "\u001b[1m1/1\u001b[0m \u001b[32m━━━━━━━━━━━━━━━━━━━━\u001b[0m\u001b[37m\u001b[0m \u001b[1m0s\u001b[0m 41ms/step\n",
      "\u001b[1m1/1\u001b[0m \u001b[32m━━━━━━━━━━━━━━━━━━━━\u001b[0m\u001b[37m\u001b[0m \u001b[1m0s\u001b[0m 40ms/step\n",
      "\u001b[1m1/1\u001b[0m \u001b[32m━━━━━━━━━━━━━━━━━━━━\u001b[0m\u001b[37m\u001b[0m \u001b[1m0s\u001b[0m 42ms/step\n",
      "\u001b[1m1/1\u001b[0m \u001b[32m━━━━━━━━━━━━━━━━━━━━\u001b[0m\u001b[37m\u001b[0m \u001b[1m0s\u001b[0m 42ms/step\n",
      "\u001b[1m1/1\u001b[0m \u001b[32m━━━━━━━━━━━━━━━━━━━━\u001b[0m\u001b[37m\u001b[0m \u001b[1m0s\u001b[0m 40ms/step\n",
      "\u001b[1m1/1\u001b[0m \u001b[32m━━━━━━━━━━━━━━━━━━━━\u001b[0m\u001b[37m\u001b[0m \u001b[1m0s\u001b[0m 37ms/step\n",
      "\u001b[1m1/1\u001b[0m \u001b[32m━━━━━━━━━━━━━━━━━━━━\u001b[0m\u001b[37m\u001b[0m \u001b[1m0s\u001b[0m 44ms/step\n",
      "\u001b[1m1/1\u001b[0m \u001b[32m━━━━━━━━━━━━━━━━━━━━\u001b[0m\u001b[37m\u001b[0m \u001b[1m0s\u001b[0m 41ms/step\n",
      "\u001b[1m1/1\u001b[0m \u001b[32m━━━━━━━━━━━━━━━━━━━━\u001b[0m\u001b[37m\u001b[0m \u001b[1m0s\u001b[0m 45ms/step\n",
      "\u001b[1m1/1\u001b[0m \u001b[32m━━━━━━━━━━━━━━━━━━━━\u001b[0m\u001b[37m\u001b[0m \u001b[1m0s\u001b[0m 44ms/step\n",
      "\u001b[1m1/1\u001b[0m \u001b[32m━━━━━━━━━━━━━━━━━━━━\u001b[0m\u001b[37m\u001b[0m \u001b[1m0s\u001b[0m 66ms/step\n",
      "\u001b[1m1/1\u001b[0m \u001b[32m━━━━━━━━━━━━━━━━━━━━\u001b[0m\u001b[37m\u001b[0m \u001b[1m0s\u001b[0m 42ms/step\n",
      "\u001b[1m1/1\u001b[0m \u001b[32m━━━━━━━━━━━━━━━━━━━━\u001b[0m\u001b[37m\u001b[0m \u001b[1m0s\u001b[0m 39ms/step\n",
      "\u001b[1m1/1\u001b[0m \u001b[32m━━━━━━━━━━━━━━━━━━━━\u001b[0m\u001b[37m\u001b[0m \u001b[1m0s\u001b[0m 46ms/step\n",
      "\u001b[1m1/1\u001b[0m \u001b[32m━━━━━━━━━━━━━━━━━━━━\u001b[0m\u001b[37m\u001b[0m \u001b[1m0s\u001b[0m 40ms/step\n",
      "\u001b[1m1/1\u001b[0m \u001b[32m━━━━━━━━━━━━━━━━━━━━\u001b[0m\u001b[37m\u001b[0m \u001b[1m0s\u001b[0m 46ms/step\n",
      "\u001b[1m1/1\u001b[0m \u001b[32m━━━━━━━━━━━━━━━━━━━━\u001b[0m\u001b[37m\u001b[0m \u001b[1m0s\u001b[0m 48ms/step\n",
      "\u001b[1m1/1\u001b[0m \u001b[32m━━━━━━━━━━━━━━━━━━━━\u001b[0m\u001b[37m\u001b[0m \u001b[1m0s\u001b[0m 68ms/step\n",
      "\u001b[1m1/1\u001b[0m \u001b[32m━━━━━━━━━━━━━━━━━━━━\u001b[0m\u001b[37m\u001b[0m \u001b[1m0s\u001b[0m 42ms/step\n",
      "\u001b[1m1/1\u001b[0m \u001b[32m━━━━━━━━━━━━━━━━━━━━\u001b[0m\u001b[37m\u001b[0m \u001b[1m0s\u001b[0m 42ms/step\n",
      "\u001b[1m1/1\u001b[0m \u001b[32m━━━━━━━━━━━━━━━━━━━━\u001b[0m\u001b[37m\u001b[0m \u001b[1m0s\u001b[0m 49ms/step\n",
      "\u001b[1m1/1\u001b[0m \u001b[32m━━━━━━━━━━━━━━━━━━━━\u001b[0m\u001b[37m\u001b[0m \u001b[1m0s\u001b[0m 40ms/step\n",
      "\u001b[1m1/1\u001b[0m \u001b[32m━━━━━━━━━━━━━━━━━━━━\u001b[0m\u001b[37m\u001b[0m \u001b[1m0s\u001b[0m 32ms/step\n",
      "\u001b[1m1/1\u001b[0m \u001b[32m━━━━━━━━━━━━━━━━━━━━\u001b[0m\u001b[37m\u001b[0m \u001b[1m0s\u001b[0m 69ms/step\n",
      "\u001b[1m1/1\u001b[0m \u001b[32m━━━━━━━━━━━━━━━━━━━━\u001b[0m\u001b[37m\u001b[0m \u001b[1m0s\u001b[0m 71ms/step\n",
      "\u001b[1m1/1\u001b[0m \u001b[32m━━━━━━━━━━━━━━━━━━━━\u001b[0m\u001b[37m\u001b[0m \u001b[1m0s\u001b[0m 40ms/step\n",
      "\u001b[1m1/1\u001b[0m \u001b[32m━━━━━━━━━━━━━━━━━━━━\u001b[0m\u001b[37m\u001b[0m \u001b[1m0s\u001b[0m 40ms/step\n",
      "\u001b[1m1/1\u001b[0m \u001b[32m━━━━━━━━━━━━━━━━━━━━\u001b[0m\u001b[37m\u001b[0m \u001b[1m0s\u001b[0m 42ms/step\n",
      "\u001b[1m1/1\u001b[0m \u001b[32m━━━━━━━━━━━━━━━━━━━━\u001b[0m\u001b[37m\u001b[0m \u001b[1m0s\u001b[0m 47ms/step\n",
      "\u001b[1m1/1\u001b[0m \u001b[32m━━━━━━━━━━━━━━━━━━━━\u001b[0m\u001b[37m\u001b[0m \u001b[1m0s\u001b[0m 41ms/step\n",
      "\u001b[1m1/1\u001b[0m \u001b[32m━━━━━━━━━━━━━━━━━━━━\u001b[0m\u001b[37m\u001b[0m \u001b[1m0s\u001b[0m 37ms/step\n",
      "\u001b[1m1/1\u001b[0m \u001b[32m━━━━━━━━━━━━━━━━━━━━\u001b[0m\u001b[37m\u001b[0m \u001b[1m0s\u001b[0m 69ms/step\n",
      "Character Error Rate (CER): 0.2634\n"
     ]
    }
   ],
   "source": [
    "decoder = ctc_decoder()\n",
    "\n",
    "y_true_list = []\n",
    "y_pred_list = []\n",
    "\n",
    "for x_batch, y_batch in test_data:\n",
    "    preds = lip_model.predict(x_batch)\n",
    "    y_true_list.append(y_batch.numpy())\n",
    "    y_pred_list.append(preds)\n",
    "\n",
    "y_true_all = np.concatenate(y_true_list, axis=0)\n",
    "y_pred_all = np.concatenate(y_pred_list, axis=0)\n",
    "\n",
    "cer_score = calculate_cer(y_true_all, y_pred_all, decoder)\n",
    "print(f\"Character Error Rate (CER): {cer_score:.4f}\")\n"
   ]
  },
  {
   "cell_type": "code",
   "execution_count": 39,
   "metadata": {
    "execution": {
     "iopub.execute_input": "2025-02-02T23:28:37.940742Z",
     "iopub.status.busy": "2025-02-02T23:28:37.940385Z",
     "iopub.status.idle": "2025-02-02T23:28:37.945596Z",
     "shell.execute_reply": "2025-02-02T23:28:37.944751Z",
     "shell.execute_reply.started": "2025-02-02T23:28:37.940715Z"
    },
    "trusted": true
   },
   "outputs": [
    {
     "name": "stdout",
     "output_type": "stream",
     "text": [
      "Accurcy : 0.7366\n"
     ]
    }
   ],
   "source": [
    "print(f\"Accurcy : {1.0- cer_score:.4f}\")\n"
   ]
  },
  {
   "cell_type": "markdown",
   "metadata": {},
   "source": [
    "# 9. predict the model on batch and video"
   ]
  },
  {
   "cell_type": "code",
   "execution_count": 41,
   "metadata": {
    "execution": {
     "iopub.execute_input": "2025-02-02T23:29:12.814439Z",
     "iopub.status.busy": "2025-02-02T23:29:12.814140Z",
     "iopub.status.idle": "2025-02-02T23:29:12.984494Z",
     "shell.execute_reply": "2025-02-02T23:29:12.983547Z",
     "shell.execute_reply.started": "2025-02-02T23:29:12.814415Z"
    },
    "trusted": true
   },
   "outputs": [],
   "source": [
    "lip_model.load_weights('/kaggle/working/checkpoint.weights.h5')\n",
    "test_data_n = test_data.as_numpy_iterator()"
   ]
  },
  {
   "cell_type": "code",
   "execution_count": 58,
   "metadata": {
    "execution": {
     "iopub.execute_input": "2025-02-02T23:55:21.946805Z",
     "iopub.status.busy": "2025-02-02T23:55:21.946468Z",
     "iopub.status.idle": "2025-02-02T23:55:21.952265Z",
     "shell.execute_reply": "2025-02-02T23:55:21.951340Z",
     "shell.execute_reply.started": "2025-02-02T23:55:21.946781Z"
    },
    "trusted": true
   },
   "outputs": [],
   "source": [
    "ex = test_data_n.next()\n",
    "inputs_batch, targets_batch = ex[0], ex[1]"
   ]
  },
  {
   "cell_type": "code",
   "execution_count": 60,
   "metadata": {
    "execution": {
     "iopub.execute_input": "2025-02-02T23:55:40.861577Z",
     "iopub.status.busy": "2025-02-02T23:55:40.861292Z",
     "iopub.status.idle": "2025-02-02T23:55:40.983786Z",
     "shell.execute_reply": "2025-02-02T23:55:40.982966Z",
     "shell.execute_reply.started": "2025-02-02T23:55:40.861555Z"
    },
    "trusted": true
   },
   "outputs": [
    {
     "name": "stdout",
     "output_type": "stream",
     "text": [
      "\u001b[1m1/1\u001b[0m \u001b[32m━━━━━━━━━━━━━━━━━━━━\u001b[0m\u001b[37m\u001b[0m \u001b[1m0s\u001b[0m 25ms/step\n"
     ]
    }
   ],
   "source": [
    "pred = lip_model.predict(inputs_batch)\n"
   ]
  },
  {
   "cell_type": "code",
   "execution_count": 64,
   "metadata": {
    "execution": {
     "iopub.execute_input": "2025-02-02T23:56:49.919226Z",
     "iopub.status.busy": "2025-02-02T23:56:49.918911Z",
     "iopub.status.idle": "2025-02-02T23:56:49.986740Z",
     "shell.execute_reply": "2025-02-02T23:56:49.985913Z",
     "shell.execute_reply.started": "2025-02-02T23:56:49.919200Z"
    },
    "trusted": true
   },
   "outputs": [
    {
     "name": "stdout",
     "output_type": "stream",
     "text": [
      "----------------------sam----------------------\n",
      "real\n",
      "setwhitewithcsixplease\n",
      "setgreenbyvninesoon\n"
     ]
    }
   ],
   "source": [
    "print(\"----------------------sam----------------------\")\n",
    "print(\"real\")\n",
    "for target_seq in targets_batch:\n",
    "    decoded_target = tf.strings.reduce_join([num_to_char(idx) for idx in target_seq])\n",
    "    print(decoded_target.numpy().decode(\"utf-8\"))"
   ]
  },
  {
   "cell_type": "code",
   "execution_count": 65,
   "metadata": {
    "execution": {
     "iopub.execute_input": "2025-02-02T23:57:05.352326Z",
     "iopub.status.busy": "2025-02-02T23:57:05.352058Z",
     "iopub.status.idle": "2025-02-02T23:57:05.361051Z",
     "shell.execute_reply": "2025-02-02T23:57:05.360226Z",
     "shell.execute_reply.started": "2025-02-02T23:57:05.352306Z"
    },
    "trusted": true
   },
   "outputs": [],
   "source": [
    "decoded_batch, _ = tf.keras.backend.ctc_decode(batch_predictions, input_length=[75, 75], greedy=True)\n"
   ]
  },
  {
   "cell_type": "code",
   "execution_count": 67,
   "metadata": {
    "execution": {
     "iopub.execute_input": "2025-02-02T23:57:40.503691Z",
     "iopub.status.busy": "2025-02-02T23:57:40.503375Z",
     "iopub.status.idle": "2025-02-02T23:57:40.633144Z",
     "shell.execute_reply": "2025-02-02T23:57:40.632502Z",
     "shell.execute_reply.started": "2025-02-02T23:57:40.503645Z"
    },
    "trusted": true
   },
   "outputs": [
    {
     "name": "stdout",
     "output_type": "stream",
     "text": [
      "----------------------sam----------------------\n",
      "pred\n",
      "setwhitewithssiplease\n",
      "setredbsineoon\n"
     ]
    }
   ],
   "source": [
    "print(\"----------------------sam----------------------\")\n",
    "print(\"pred\")\n",
    "for seq in decoded_batch[0]:\n",
    "    decoded_chars = [num_to_char(idx) for idx in seq if idx != -1]\n",
    "    decoded_string = tf.strings.reduce_join(decoded_chars)\n",
    "    print(decoded_string.numpy().decode(\"utf-8\"))"
   ]
  },
  {
   "cell_type": "code",
   "execution_count": 68,
   "metadata": {
    "execution": {
     "iopub.execute_input": "2025-02-02T23:58:03.972306Z",
     "iopub.status.busy": "2025-02-02T23:58:03.971975Z",
     "iopub.status.idle": "2025-02-02T23:58:04.012525Z",
     "shell.execute_reply": "2025-02-02T23:58:04.011901Z",
     "shell.execute_reply.started": "2025-02-02T23:58:03.972280Z"
    },
    "trusted": true
   },
   "outputs": [],
   "source": [
    "exx = load_lip_data_with_augmentation(tf.convert_to_tensor('/kaggle/working/lip_data/data/s1/bbaf2n.mpg'))\n",
    "video_input, video_target = exx"
   ]
  },
  {
   "cell_type": "code",
   "execution_count": 69,
   "metadata": {
    "execution": {
     "iopub.execute_input": "2025-02-02T23:58:33.667372Z",
     "iopub.status.busy": "2025-02-02T23:58:33.666942Z",
     "iopub.status.idle": "2025-02-02T23:58:33.695562Z",
     "shell.execute_reply": "2025-02-02T23:58:33.694732Z",
     "shell.execute_reply.started": "2025-02-02T23:58:33.667332Z"
    },
    "trusted": true
   },
   "outputs": [
    {
     "name": "stdout",
     "output_type": "stream",
     "text": [
      "----------------------sam----------------------\n",
      "real\n",
      "binblueatftwonow\n"
     ]
    }
   ],
   "source": [
    "print(\"----------------------sam----------------------\")\n",
    "print(\"real\")\n",
    "decoded_video_target = tf.strings.reduce_join([num_to_char(idx) for idx in video_target])\n",
    "print(decoded_video_target.numpy().decode(\"utf-8\"))"
   ]
  },
  {
   "cell_type": "code",
   "execution_count": 70,
   "metadata": {
    "execution": {
     "iopub.execute_input": "2025-02-02T23:59:02.428378Z",
     "iopub.status.busy": "2025-02-02T23:59:02.428053Z",
     "iopub.status.idle": "2025-02-02T23:59:02.524060Z",
     "shell.execute_reply": "2025-02-02T23:59:02.523410Z",
     "shell.execute_reply.started": "2025-02-02T23:59:02.428350Z"
    },
    "trusted": true
   },
   "outputs": [
    {
     "name": "stdout",
     "output_type": "stream",
     "text": [
      "\u001b[1m1/1\u001b[0m \u001b[32m━━━━━━━━━━━━━━━━━━━━\u001b[0m\u001b[37m\u001b[0m \u001b[1m0s\u001b[0m 47ms/step\n"
     ]
    }
   ],
   "source": [
    "video_input_batch = np.expand_dims(video_input, axis=0)\n",
    "video_pred = lip_model.predict(video_input_batch)\n",
    "decoded_video, _ = tf.keras.backend.ctc_decode(video_pred, input_length=[75], greedy=True)"
   ]
  },
  {
   "cell_type": "code",
   "execution_count": 71,
   "metadata": {
    "execution": {
     "iopub.execute_input": "2025-02-02T23:59:17.868126Z",
     "iopub.status.busy": "2025-02-02T23:59:17.867845Z",
     "iopub.status.idle": "2025-02-02T23:59:17.908339Z",
     "shell.execute_reply": "2025-02-02T23:59:17.907690Z",
     "shell.execute_reply.started": "2025-02-02T23:59:17.868096Z"
    },
    "trusted": true
   },
   "outputs": [
    {
     "name": "stdout",
     "output_type": "stream",
     "text": [
      "----------------------sam----------------------\n",
      "pred\n",
      "biyblueitwonow\n"
     ]
    }
   ],
   "source": [
    "print(\"----------------------sam----------------------\")\n",
    "print(\"pred\")\n",
    "decoded_video_seq = decoded_video[0][0].numpy()\n",
    "decoded_video_chars = [num_to_char(idx) for idx in decoded_video_seq if idx != -1]\n",
    "decoded_video_text = tf.strings.reduce_join(decoded_video_chars)\n",
    "decoded_str = decoded_video_text.numpy().decode(\"utf-8\")\n",
    "print(decoded_str)"
   ]
  },
  {
   "cell_type": "code",
   "execution_count": 72,
   "metadata": {
    "execution": {
     "iopub.execute_input": "2025-02-02T23:59:33.068812Z",
     "iopub.status.busy": "2025-02-02T23:59:33.068422Z",
     "iopub.status.idle": "2025-02-02T23:59:33.073696Z",
     "shell.execute_reply": "2025-02-02T23:59:33.072859Z",
     "shell.execute_reply.started": "2025-02-02T23:59:33.068773Z"
    },
    "trusted": true
   },
   "outputs": [
    {
     "name": "stdout",
     "output_type": "stream",
     "text": [
      "Segmented Predicted Text:\n",
      "bi y blue i two now\n"
     ]
    }
   ],
   "source": [
    "segmented_output = \" \".join(wordninja.split(decoded_str))\n",
    "print(\"Segmented Predicted Text:\")\n",
    "print(segmented_output)"
   ]
  }
 ],
 "metadata": {
  "kaggle": {
   "accelerator": "nvidiaTeslaT4",
   "dataSources": [],
   "dockerImageVersionId": 30840,
   "isGpuEnabled": true,
   "isInternetEnabled": true,
   "language": "python",
   "sourceType": "notebook"
  },
  "kernelspec": {
   "display_name": "Python 3",
   "language": "python",
   "name": "python3"
  },
  "language_info": {
   "codemirror_mode": {
    "name": "ipython",
    "version": 3
   },
   "file_extension": ".py",
   "mimetype": "text/x-python",
   "name": "python",
   "nbconvert_exporter": "python",
   "pygments_lexer": "ipython3",
   "version": "3.10.12"
  }
 },
 "nbformat": 4,
 "nbformat_minor": 4
}
